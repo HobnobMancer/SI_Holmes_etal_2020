{
 "cells": [
  {
   "cell_type": "markdown",
   "metadata": {},
   "source": [
    "# Supplementary Information: Holmes *et al.* 2017\n",
    "\n",
    "# 3. An unpooled model"
   ]
  },
  {
   "cell_type": "code",
   "execution_count": 1,
   "metadata": {
    "collapsed": false
   },
   "outputs": [
    {
     "name": "stdout",
     "output_type": "stream",
     "text": [
      "Populating the interactive namespace from numpy and matplotlib\n"
     ]
    },
    {
     "name": "stderr",
     "output_type": "stream",
     "text": [
      "/Users/lpritc/Development/GitHub/Supplementary_Info/SI_Holmes_etal_2016/venv-SI_Holmes_2016/lib/python3.5/site-packages/Cython/Distutils/old_build_ext.py:30: UserWarning: Cython.Distutils.old_build_ext does not properly handle dependencies and is deprecated.\n",
      "  \"Cython.Distutils.old_build_ext does not properly handle dependencies \"\n"
     ]
    }
   ],
   "source": [
    "%pylab inline\n",
    "\n",
    "import numpy as np\n",
    "import pandas as pd\n",
    "import pystan\n",
    "import scipy\n",
    "import seaborn as sns\n",
    "\n",
    "import warnings\n",
    "warnings.filterwarnings('ignore')\n",
    "\n",
    "sns.set_context('notebook')"
   ]
  },
  {
   "cell_type": "markdown",
   "metadata": {},
   "source": [
    "## Building the model\n",
    "\n",
    "With this unpooled model, we treat each probe (across both conditions) as if its measurements before and after the experiment were drawn from a distribution specific to that probe, where that the output value is (still) some linear function of the input value, mediated by the experiment.\n",
    "\n",
    "We construct the following model of the experiment:\n",
    "\n",
    "$$y_i = \\alpha + \\beta_$j[i]$ x_i + \\epsilon_i$$\n",
    "\n",
    "* $y_i$: measured log(intensity) output on the array for probe $i$ (specific to each replicate)\n",
    "* $x_i$: measured log(intensity) input on the array for probe $i$ (specific to each replicate)\n",
    "* $\\alpha$: a representative log(intensity) level for the input array\n",
    "* $\\beta_{j[i]}$: the effect of the experiment on the measured log(intensity) for probe $i$ (combined across all replicates, where $j[i]$ is the probe identity, rather than the specific probe for a single replicate)\n",
    "* $\\epsilon_i$: error in the model prediction for probe $i$"
   ]
  },
  {
   "cell_type": "markdown",
   "metadata": {},
   "source": [
    "### Stan model construction and fit\n",
    "\n",
    "We need to define `data`, `parameters` and our `model` for `Stan`.\n",
    "\n",
    "In the `data` block, we have:\n",
    "\n",
    "* `N`: `int`, the number of data points)\n",
    "* `J`: `int`, the number of unique probe IDs (`J` < `N`)\n",
    "* `probe`: `int[N]`, an index list of probe identities - one index representing six probe measurements (i.e. three control, three treatment) - there are `J` probes\n",
    "* `x`: `vector[N]`, the input log(intensity) values\n",
    "* `y`: `vector[N]`, the output log(intensity) values\n",
    "\n",
    "In the `parameter` block, we have:\n",
    "\n",
    "* `a`: `real`, representative input log(intensity)\n",
    "* `b`: `real vector[J]`, effect on log(intensity) of passing through the experiment, specific to a probe ID\n",
    "* `sigma`: `real<lower=0>`, the error in the prediction\n",
    "\n",
    "We also define a `transformed parameter`:\n",
    "\n",
    "* `y_hat[i] <- b[probe[i]] * x[i] + a`: the linear relationship describing $\\hat{y}$, our estimate of experimental output intensity, which is subject to variance `sigma`.\n",
    "\n",
    "We define the model as $y \\sim N(\\hat{y}, \\sigma^2)$."
   ]
  },
  {
   "cell_type": "markdown",
   "metadata": {},
   "source": [
    "We map Python variables to `stan` variables, so we need to load our cleaned, normalised dataset, and create an index for each probe ID."
   ]
  },
  {
   "cell_type": "code",
   "execution_count": 2,
   "metadata": {
    "collapsed": false
   },
   "outputs": [],
   "source": [
    "# load clean, normalised data\n",
    "data = pd.read_csv(\"output/normalised_array_data.tab\", sep=\"\\t\")\n",
    "\n",
    "# create indices and values for probes\n",
    "probe_ids = data['probe'].unique()\n",
    "nprobes = len(probe_ids)\n",
    "probe_lookup = dict(zip(probe_ids, range(nprobes)))\n",
    "\n",
    "# add data column with probe index from probe_lookup\n",
    "data['probe_index'] = data['probe'].replace(probe_lookup).values"
   ]
  },
  {
   "cell_type": "code",
   "execution_count": 3,
   "metadata": {
    "collapsed": true
   },
   "outputs": [],
   "source": [
    "# define unpooled stan model\n",
    "unpooled_model = \"\"\"\n",
    "data {\n",
    "  int<lower=0> N;\n",
    "  int<lower=0> J;\n",
    "  int<lower=1, upper=J> probe[N];\n",
    "  vector[N] x;\n",
    "  vector[N] y;\n",
    "}\n",
    "parameters {\n",
    "  real a;\n",
    "  vector[J] b;\n",
    "  real<lower=0> sigma;\n",
    "}\n",
    "transformed parameters{\n",
    "  vector[N] y_hat;\n",
    "\n",
    "  for (i in 1:N)\n",
    "    y_hat[i] = a + b[probe[i]] * x[i];\n",
    "}\n",
    "model {\n",
    "  y ~ normal(y_hat, sigma);\n",
    "}\n",
    "\"\"\""
   ]
  },
  {
   "cell_type": "code",
   "execution_count": 4,
   "metadata": {
    "collapsed": false
   },
   "outputs": [],
   "source": [
    "# relate python variables to stan variables\n",
    "unpooled_data_dict = {'N': len(data),\n",
    "                      'J': nprobes,\n",
    "                      'probe': data['probe_index'] + 1,\n",
    "                      'x': data['input'],\n",
    "                      'y': data['output']}"
   ]
  },
  {
   "cell_type": "code",
   "execution_count": 5,
   "metadata": {
    "collapsed": false
   },
   "outputs": [
    {
     "name": "stderr",
     "output_type": "stream",
     "text": [
      "INFO:pystan:COMPILING THE C++ CODE FOR MODEL anon_model_bead0bcd635d99cdf2820a22fffd2b0e NOW.\n"
     ]
    }
   ],
   "source": [
    "# run stan fit\n",
    "unpooled_fit = pystan.stan(model_code=unpooled_model,\n",
    "                           data=unpooled_data_dict,\n",
    "                           iter=1000, chains=2)"
   ]
  },
  {
   "cell_type": "markdown",
   "metadata": {},
   "source": [
    "## Inspecting the fit\n",
    "\n",
    "We cannot inspect the fitted parameter estimates quite so straightforwardly, as there are now approximately 11000 parameters describing the slope for individual probe IDs, $\\beta_j[i]$. We can, however, get an estimate of the range of values those slopes and look at the potential for outliers - specific probe IDs that look as though they may deviate quite far from the mean of all estimates."
   ]
  },
  {
   "cell_type": "code",
   "execution_count": 6,
   "metadata": {
    "collapsed": true
   },
   "outputs": [],
   "source": [
    "# Get fits by probe ID\n",
    "unpooled_estimates = pd.Series(unpooled_fit['b'].mean(0), index=probe_ids)\n",
    "unpooled_se = pd.Series(unpooled_fit['b'].std(0), index=probe_ids)"
   ]
  },
  {
   "cell_type": "code",
   "execution_count": 7,
   "metadata": {
    "collapsed": false
   },
   "outputs": [
    {
     "data": {
      "text/plain": [
       "A_07_P010355   -2.787029\n",
       "A_07_P039196   -1.443608\n",
       "A_07_P039195   -1.138020\n",
       "A_07_P039186    0.696466\n",
       "A_07_P039181   -4.021668\n",
       "dtype: float64"
      ]
     },
     "execution_count": 7,
     "metadata": {},
     "output_type": "execute_result"
    }
   ],
   "source": [
    "# Inspect the estimates\n",
    "unpooled_estimates.head()"
   ]
  },
  {
   "cell_type": "code",
   "execution_count": 8,
   "metadata": {
    "collapsed": false
   },
   "outputs": [
    {
     "data": {
      "image/png": "[encoded data removed]",
      "text/plain": [
       "<matplotlib.figure.Figure at 0x127cad9b0>"
      ]
     },
     "metadata": {},
     "output_type": "display_data"
    }
   ],
   "source": [
    "# Plot distribution\n",
    "g = sns.boxplot(unpooled_estimates)\n",
    "g.set_title(\"Distribution of mean slope for unpooled model\")\n",
    "g.set_xlabel(\"mean(beta)\");"
   ]
  },
  {
   "cell_type": "markdown",
   "metadata": {},
   "source": [
    "From the boxplot we can see that the distribution of mean inferred values of beta (by probe ID) is very tight, and close to zero. There are quite a few negative values, but the ones we might be most interested in are large and positive (indicating a tendency to give a stronger signal post-experiment than pre-experiment). We can look at these more closely."
   ]
  },
  {
   "cell_type": "code",
   "execution_count": 9,
   "metadata": {
    "collapsed": true
   },
   "outputs": [],
   "source": [
    "# Extract strongly positive results\n",
    "strong_positive = unpooled_estimates.loc[unpooled_estimates > 5]\n",
    "strong_positive_se = unpooled_se.loc[unpooled_se.index.isin(strong_positive.index)]"
   ]
  },
  {
   "cell_type": "code",
   "execution_count": 10,
   "metadata": {
    "collapsed": false
   },
   "outputs": [
    {
     "data": {
      "image/png": "[encoded data removed]",
      "text/plain": [
       "<matplotlib.figure.Figure at 0x114bff9e8>"
      ]
     },
     "metadata": {},
     "output_type": "display_data"
    }
   ],
   "source": [
    "# Plot strongly positive results\n",
    "order = strong_positive.sort_values().index\n",
    "plt.scatter(range(len(strong_positive)), strong_positive[order])\n",
    "for idx, mn, se in zip(range(len(strong_positive)),\n",
    "                       strong_positive[order],\n",
    "                       strong_positive_se[order]):\n",
    "    plt.plot([idx, idx], [mn - se, mn + se], 'b-')\n",
    "plt.xlabel(\"ordered probe ID\")\n",
    "plt.ylabel('slope')\n",
    "plt.xlim(-1, 30)\n",
    "plt.title(\"variation in strongly positive slope estimates\");"
   ]
  },
  {
   "cell_type": "markdown",
   "metadata": {},
   "source": [
    "From this plot, we can see that although there may be several strongly positive effects due to conducting the experiment, the variation is very large, and only one of the estimates has a standard error that does not include zero.\n",
    "\n",
    "At this point, we are still not capturing information important for our central question:\n",
    "\n",
    "* we are combining experiments with and without passage\n",
    "* we are assuming a pooled intercept (the same base level of expression for all probes)\n",
    "* whether probes that hybridise to Sakai have a different signal\n",
    "* we are not incorporating any pertinent biological information (e.g. hierarchy of operons/regulons)\n",
    "\n",
    "and it is possible that by extending our model we can reduce the variability we see in these estimates"
   ]
  },
  {
   "cell_type": "code",
   "execution_count": null,
   "metadata": {
    "collapsed": true
   },
   "outputs": [],
   "source": []
  }
 ],
 "metadata": {
  "kernelspec": {
   "display_name": "Python 3",
   "language": "python",
   "name": "python3"
  },
  "language_info": {
   "codemirror_mode": {
    "name": "ipython",
    "version": 3
   },
   "file_extension": ".py",
   "mimetype": "text/x-python",
   "name": "python",
   "nbconvert_exporter": "python",
   "pygments_lexer": "ipython3",
   "version": "3.5.2"
  }
 },
 "nbformat": 4,
 "nbformat_minor": 1
}
