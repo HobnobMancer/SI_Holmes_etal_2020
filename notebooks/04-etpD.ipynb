{
 "cells": [
  {
   "cell_type": "markdown",
   "metadata": {},
   "source": [
    "<img src=\"images/JHI_STRAP_Web.png\" style=\"width: 150px; float: right;\">\n",
    "\n",
    "# Supplementary Information: Holmes *et al.* 2017\n",
    "\n",
    "# 4. *etpD* knockouts and complementation\n",
    "\n",
    "This notebook describes raw data import, cleaning and QA, then modelling of the *etpD* knockout and complementation experiments.\n",
    "\n",
    "## Table of Contents\n",
    "\n",
    " 1. [Experiment design](#design)\n",
    " 2. [Data import](#import_data)\n",
    "    1. [Problematic probes](#problem_probes)\n",
    "    2. [Interpolation for problematic probes](#interpolation)   \n",
    " 3. [Model definition](#definition)\n",
    " 4. [Wide to long form](#wide_to_long)\n",
    " 5. [Probe matches to Sakai and DH10B](#probe_matches)\n",
    " 6. [Write data](#write)"
   ]
  },
  {
   "cell_type": "markdown",
   "metadata": {},
   "source": [
    "## Python imports"
   ]
  },
  {
   "cell_type": "code",
   "execution_count": 3,
   "metadata": {
    "collapsed": false
   },
   "outputs": [
    {
     "name": "stdout",
     "output_type": "stream",
     "text": [
      "Populating the interactive namespace from numpy and matplotlib\n"
     ]
    }
   ],
   "source": [
    "%pylab inline\n",
    "\n",
    "import warnings\n",
    "warnings.filterwarnings('ignore')"
   ]
  },
  {
   "cell_type": "markdown",
   "metadata": {},
   "source": [
    "## 1. Experiment design <a id=\"design\"></a>\n",
    "\n",
    "The experiments comprise four variants of *E. coli* Sakai:\n",
    "\n",
    "1. Wild Type (`WT`)\n",
    "2. *etpD* knockouts: ΔetpD (`KO`)\n",
    "3. empty plasmid pSE380: (`empty`)\n",
    "4. plasmid pSE380 carrying *etpD* complement: (`complement`)\n",
    "\n",
    "These four variants are each and separately exposed to two spinach plant tissues: *leaf* and *root*, and logCFU determined as a proxy for adherence, as described in the manuscript.\n",
    "\n",
    "The questions at hand are:\n",
    "\n",
    "1. Is there a difference in logCFU for `KO` with respect to `WT`? If so, what is the direction and magnitude of change?\n",
    "2. Is there a difference in logCFU for `complement` with respect to `empty`? If so, what is the direction and magnitude of change?\n",
    "\n",
    "For each tissue, the experiments were conducted such that each logCFU measurement was acquired on a single, independent plant or leaf. This means that there is **no natural pairing of specific `WT` and `KO`, or `empty` and `complement` measurements**. The natural comparison is within-batch, and pooled.\n",
    "\n",
    "Measurements were made in batches of five. That is, on a particular half-day a batch of ten measurements were made: five `KO` and five `WT`; or five `empty` and five `complement`. There is therefore **no natural pairing of `WT`/`KO` to `empty`/`complement` measurements** as these were carried out in different batches at different times. We may assume that each batch is subject to specific effects that may bias the observed logCFU with respect to other batches."
   ]
  },
  {
   "cell_type": "markdown",
   "metadata": {},
   "source": [
    "## Data import <a id=\"import_data\"></a>\n",
    "\n",
    "<div class=\"alert alert-warning\">\n",
    "Raw data was previously converted to plain text comma-separated variable format from the `Excel` files `etpD_raw_data.xlsx`:\n",
    "\n",
    "<ul>\n",
    "<li> The file `leaves.csv` contains data from experiments on spinach leaves\n",
    "<li> The file `roots.csv` contains data from experiments on spinach roots\n",
    "</ul>\n",
    "</div>"
   ]
  },
  {
   "cell_type": "markdown",
   "metadata": {},
   "source": [
    "## Model definition <a id=\"definition\"></a>\n",
    "\n",
    "We assume that each measurement with index *i* measures the logCFU (proxy for extent of adherence/attachment) of a particular Sakai variant when recovered from plant tissue. We define this measurement as the output $y_{i}$, and assume that it represents the true value of logCFU ($\\hat{y_{i}}$) plus some irreducible error in the measurement ($\\epsilon$), which is assumed to be the same for all measurements, and normally-distributed with mean 0 and variance $\\sigma^{2}_{y}$.\n",
    "\n",
    "$$y_i = \\hat{y_i} + \\epsilon_i$$\n",
    "$$\\epsilon_i \\sim N(0, \\sigma_y^2) \\implies y_i \\sim N(\\hat{y_i}, \\sigma_y^2)$$"
   ]
  },
  {
   "cell_type": "markdown",
   "metadata": {},
   "source": [
    "We assume that the 'true' value $\\hat{y_{i}}$ is determined by a combination of factors:\n",
    "\n",
    "1. The 'inherent' tendency of the `WT` wild-type variant to adhere to the tissue\n",
    "2. Modification of (1) by the specific loss of *etpD*\n",
    "3. Modification of (1) by the presence of plasmid pSE380\n",
    "4. Modification of (1) by the presence of *etpD* on plasmid pSE380\n",
    "5. Effects specific to the batch\n",
    "\n",
    "We treat each of these factors as, essentially, the additive results of categorical effects.\n",
    "\n",
    "(1) is essentially an intercept, as all observations are of either unmodified or modified WT Sakai, and can be represented as the parameter $\\alpha$\n",
    "\n",
    "(2)-(4) can be coded as `1/0` integer values for a measurement with index $i$ ($t_i$, $u_i$, $v_i$), each with its own parameter ($\\beta$, $\\gamma$, $\\delta$) representing combinations of influences. Splitting the factors in this way enables 'borrowing' of data from the plasmid-bearing variants for the estimate of the effect due to loss of *etpD*. Similarly, it enables the direct estimation of the effect of reintroducing *etpD* as a complement. With this interpretation, the parameters have the meanings:\n",
    "\n",
    "* $\\beta$ - the change in logCFU due to loss of *etpD* with respect to the wild type\n",
    "* $\\gamma$ - the change in logCFU due to incorporation of the pSE380 plasmid. Note that as there is no experiment in which the wild-type Sakai carries this plasmid, this parameter only estimates the effect in a $\\Delta etpD$ background.\n",
    "* $\\delta$ - the change in logCFU due to incorporation of *etpD* on the pSE380 plasmid. Note again that this parameter only estimates the effect in a $\\Delta etpD$ Sakai background, due to the experiment structure.\n",
    "\n",
    "(5) Can be represented as an array of parameters, $\\phi_{j_{i}}$, where $j \\in {1, 2, \\ldots, n}$ and $n$ is the number of batches. Each value of $\\phi_{j_{i}}$ represents the effect due to batch $j_{i}$ - the batch to which measurement $i$ belongs.\n",
    "\n",
    "We choose to model each of these parameters as an additive effect acting upon the baseline adherence $\\alpha$. Parameters estimated to have negative values diminish adherence; parameters estimated to have positive values enhance adherence. Parameters whose credibility interval span zero will not have been shown to modify baseline adherence.\n",
    "\n",
    "For each parameter's prior we choose a Cauchy distribution:\n",
    "\n",
    "$$\\alpha \\sim Cauchy(\\mu_{\\alpha}, \\sigma_{\\alpha}^2)$$\n",
    "$$\\beta \\sim Cauchy(\\mu_{\\beta}, \\sigma_{\\beta}^2)$$\n",
    "$$\\gamma \\sim Cauchy(\\mu_{\\gamma}, \\sigma_{\\gamma}^2)$$\n",
    "$$\\delta \\sim Cauchy(\\mu_{\\delta}, \\sigma_{\\delta}^2)$$\n",
    "\n",
    "where the variance of each parameter's prior can be drawn from a weak prior. We choose an exponential distribution with mean of unity:\n",
    "\n",
    "$$\\sigma_\\alpha \\sim \\textrm{Exp}(1)$$\n",
    "$$\\sigma_\\beta \\sim \\textrm{Exp}(1)$$\n",
    "$$\\sigma_\\gamma \\sim \\textrm{Exp}(1)$$\n",
    "$$\\sigma_\\delta \\sim \\textrm{Exp}(1)$$\n",
    "\n",
    "We define batch effects for batch $j_i$ (the batch from which measurement $i$ is drawn) in the same way:\n",
    "\n",
    "$$j_i \\in {1, 2, \\ldots, 8}$$\n",
    "$$\\phi_{j_{i}} \\sim Cauchy(\\mu_{\\phi_{j_{i}}}, \\sigma_{\\phi_{j_{i}}}^2)$$\n",
    "$$\\sigma_{\\phi_{j_{i}}} \\sim \\textrm{Exp}(1)$$"
   ]
  },
  {
   "cell_type": "markdown",
   "metadata": {},
   "source": [
    "<div class=\"alert-success\">\n",
    "<b>We therefore construct the following model of the experiment, for a given tissue:</b>\n",
    "\n",
    "$$y_i = \\hat{y_i} + \\epsilon_i$$\n",
    "$$\\hat{y_i} = \\alpha + \\beta t_i + \\gamma u_i + \\delta v_i + \\phi_{j_{i}}$$\n",
    "\n",
    "$$j_i \\in {1, 2, \\ldots, 8}$$\n",
    "\n",
    "$$\\alpha \\sim Cauchy(\\mu_{\\alpha}, \\sigma_{\\alpha}^2)$$\n",
    "$$\\beta \\sim Cauchy(\\mu_{\\beta}, \\sigma_{\\beta}^2)$$\n",
    "$$\\gamma \\sim Cauchy(\\mu_{\\gamma}, \\sigma_{\\gamma}^2)$$\n",
    "$$\\delta \\sim Cauchy(\\mu_{\\delta}, \\sigma_{\\delta}^2)$$\n",
    "$$\\phi_{j_{i}} \\sim Cauchy(\\mu_{\\phi_{j_{i}}}, \\sigma_{\\phi_{j_{i}}}^2)$$\n",
    "\n",
    "$$\\sigma_\\alpha \\sim \\textrm{Exp}(1)$$\n",
    "$$\\sigma_\\beta \\sim \\textrm{Exp}(1)$$\n",
    "$$\\sigma_\\gamma \\sim \\textrm{Exp}(1)$$\n",
    "$$\\sigma_\\delta \\sim \\textrm{Exp}(1)$$\n",
    "$$\\sigma_{\\phi_{j_{i}}} \\sim \\textrm{Exp}(1)$$\n",
    "\n",
    "<ul>\n",
    "<li> $y_i$: measured logCFU for a single application $i$ of bacteria to a plant\n",
    "<li> $\\hat{y_i}$: 'true' logCFU for a single application $i$ of bacteria to a plant\n",
    "<li> $\\epsilon_i$: measurement error in logCFU for a single application of $i$ of bacteria to a plant\n",
    "<li> $\\alpha$: the expected logCFU for wild-type (`WT`) Sakai to a plant\n",
    "<li> $\\mu_\\alpha$: mean logCFU for `WT` Sakai on the plant\n",
    "<li> $\\sigma_\\alpha$: variance logCFU for `WT` Sakai on the plant\n",
    "<li> $\\beta$: the expected modification of logCFU w.r.t. `WT` as the result of deletion of *etpD*\n",
    "<li> $\\mu_\\beta$: mean change in logCFU for `KO` w.r.t. `WT` Sakai on the plant\n",
    "<li> $\\sigma_\\alpha$: variance for change in logCFU for `KO` w.r.t. `WT` Sakai on the plant\n",
    "<li> $t_i$: 0/1 pseudovariable indicating whether the strain used for $i$ is $\\Delta etpD$ (is `KO`)\n",
    "<li> $\\gamma$: the expected modification of logCFU w.r.t. `KO` as the result of incorporation of plasmid pSE380\n",
    "<li> $\\mu_\\gamma$: mean change in logCFU for `empty` w.r.t. `KO` Sakai on the plant\n",
    "<li> $\\sigma_\\gamma$: variance for change in logCFU for `empty` w.r.t. `KO` Sakai on the plant\n",
    "<li> $u_i$: 0/1 pseudovariable indicating whether the strain used for $i$ is $\\Delta etpD$ and carrying pSE380 (is `empty`)\n",
    "<li> $\\delta$: the expected modification of logCFU w.r.t. `empty` as the result of complementation with *etpD*\n",
    "<li> $\\mu_\\delta$: mean change in logCFU for `complement` w.r.t. `empty` Sakai on the plant\n",
    "<li> $\\sigma_\\delta$: variance for change in logCFU for `complement` w.r.t. `empty` Sakai on the plant\n",
    "<li> $v_i$: 0/1 pseudovariable indicating whether the strain used for $i$ is $\\Delta etpD$, carrying pSE380, and includes the complemented *etpD* (is `complement`)\n",
    "<li> $j_i$: the batch from which $i$ is drawn, $j \\in {1, 2, \\ldots, 8}$\n",
    "<li> $\\phi_{j_{i}}$: the expected modification of logCFU for batch $j_i$ w.r.t. `WT`\n",
    "<li> $\\mu_{\\phi_{j_{i}}}$: mean change in logCFU for batch $j_i$ w.r.t. `WT`\n",
    "<li> $\\sigma_{\\phi_{j_{i}}}$: variance for change in logCFU for batch $j_i$ w.r.t. `WT`\n",
    "</div>"
   ]
  },
  {
   "cell_type": "code",
   "execution_count": null,
   "metadata": {
    "collapsed": true
   },
   "outputs": [],
   "source": []
  }
 ],
 "metadata": {
  "kernelspec": {
   "display_name": "Python 3",
   "language": "python",
   "name": "python3"
  },
  "language_info": {
   "codemirror_mode": {
    "name": "ipython",
    "version": 3
   },
   "file_extension": ".py",
   "mimetype": "text/x-python",
   "name": "python",
   "nbconvert_exporter": "python",
   "pygments_lexer": "ipython3",
   "version": "3.6.0"
  }
 },
 "nbformat": 4,
 "nbformat_minor": 1
}
