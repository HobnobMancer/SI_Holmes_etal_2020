{
 "cells": [
  {
   "cell_type": "markdown",
   "metadata": {},
   "source": [
    "<img src=\"images/JHI_STRAP_Web.png\" style=\"width: 150px; float: right;\">\n",
    "\n",
    "# Supplementary Information: Holmes *et al.* 2017\n",
    "\n",
    "# 4. *etpD* knockouts and complementation\n",
    "\n",
    "This notebook describes raw data import, cleaning and QA, then modelling of the *etpD* knockout and complementation experiments.\n",
    "\n",
    "## Table of Contents\n",
    "\n",
    " 1. [Experiment design](#design)\n",
    " 2. [Data import](#import_data)\n",
    "    1. [Problematic probes](#problem_probes)\n",
    "    2. [Interpolation for problematic probes](#interpolation)   \n",
    " 3. [Model definition](#definition)\n",
    " 4. [Wide to long form](#wide_to_long)\n",
    " 5. [Probe matches to Sakai and DH10B](#probe_matches)\n",
    " 6. [Write data](#write)"
   ]
  },
  {
   "cell_type": "markdown",
   "metadata": {},
   "source": [
    "## Python imports"
   ]
  },
  {
   "cell_type": "code",
   "execution_count": 1,
   "metadata": {
    "collapsed": false
   },
   "outputs": [
    {
     "name": "stdout",
     "output_type": "stream",
     "text": [
      "Populating the interactive namespace from numpy and matplotlib\n"
     ]
    }
   ],
   "source": [
    "%pylab inline\n",
    "\n",
    "import pandas as pd\n",
    "import seaborn as sns\n",
    "sns.set_style(\"darkgrid\")\n",
    "\n",
    "import warnings\n",
    "warnings.filterwarnings('ignore')"
   ]
  },
  {
   "cell_type": "markdown",
   "metadata": {},
   "source": [
    "## 1. Experiment design <a id=\"design\"></a>\n",
    "\n",
    "The experiments comprise four variants of *E. coli* Sakai:\n",
    "\n",
    "1. Wild Type (`WT`)\n",
    "2. *etpD* knockouts: ΔetpD (`KO`)\n",
    "3. empty plasmid pSE380: (`empty`)\n",
    "4. plasmid pSE380 carrying *etpD* complement: (`complement`)\n",
    "\n",
    "These four variants are each and separately exposed to two spinach plant tissues: *leaf* and *root*, and logCFU determined as a proxy for adherence, as described in the manuscript.\n",
    "\n",
    "The questions at hand are:\n",
    "\n",
    "1. Is there a difference in logCFU for `KO` with respect to `WT`? If so, what is the direction and magnitude of change?\n",
    "2. Is there a difference in logCFU for `complement` with respect to `empty`? If so, what is the direction and magnitude of change?\n",
    "\n",
    "For each tissue, the experiments were conducted such that each logCFU measurement was acquired on a single, independent plant or leaf. This means that there is **no natural pairing of specific `WT` and `KO`, or `empty` and `complement` measurements**. The natural comparison is within-batch, and pooled.\n",
    "\n",
    "Measurements were made in batches of five. That is, on a particular half-day a batch of ten measurements were made: five `KO` and five `WT`; or five `empty` and five `complement`. There is therefore **no natural pairing of `WT`/`KO` to `empty`/`complement` measurements** as these were carried out in different batches at different times. We may assume that each batch is subject to specific effects that may bias the observed logCFU with respect to other batches."
   ]
  },
  {
   "cell_type": "markdown",
   "metadata": {},
   "source": [
    "## 2. Data import <a id=\"import_data\"></a>\n",
    "\n",
    "<div class=\"alert alert-warning\">\n",
    "Raw data was previously converted to plain text comma-separated variable format from the `Excel` files `etpD_raw_data.xlsx`:\n",
    "\n",
    "<ul>\n",
    "<li> The file `leaves.csv` contains data from experiments on spinach leaves\n",
    "<li> The file `roots.csv` contains data from experiments on spinach roots\n",
    "</ul>\n",
    "</div>\n",
    "\n",
    "We import the data using `pandas`:"
   ]
  },
  {
   "cell_type": "code",
   "execution_count": 2,
   "metadata": {
    "collapsed": true
   },
   "outputs": [],
   "source": [
    "# Raw data locations\n",
    "leafdatafile = \"../data/etpD/leaves.csv\"\n",
    "rootdatafile = \"../data/etpD/roots.csv\"\n",
    "\n",
    "# Parse data\n",
    "leafdata = pd.read_csv(leafdatafile)\n",
    "rootdata = pd.read_csv(rootdatafile)"
   ]
  },
  {
   "cell_type": "code",
   "execution_count": 3,
   "metadata": {
    "collapsed": false
   },
   "outputs": [
    {
     "data": {
      "text/html": [
       "<div>\n",
       "<table border=\"1\" class=\"dataframe\">\n",
       "  <thead>\n",
       "    <tr style=\"text-align: right;\">\n",
       "      <th></th>\n",
       "      <th>Sakai</th>\n",
       "      <th>delta EtpD</th>\n",
       "      <th>pSE380</th>\n",
       "      <th>pSE_EtpD</th>\n",
       "    </tr>\n",
       "  </thead>\n",
       "  <tbody>\n",
       "    <tr>\n",
       "      <th>0</th>\n",
       "      <td>1.496078e+06</td>\n",
       "      <td>424092.4092</td>\n",
       "      <td>7.414966e+05</td>\n",
       "      <td>3288288.288</td>\n",
       "    </tr>\n",
       "    <tr>\n",
       "      <th>1</th>\n",
       "      <td>9.719888e+05</td>\n",
       "      <td>122362.8692</td>\n",
       "      <td>2.788462e+06</td>\n",
       "      <td>4272300.469</td>\n",
       "    </tr>\n",
       "    <tr>\n",
       "      <th>2</th>\n",
       "      <td>1.614790e+06</td>\n",
       "      <td>451790.6336</td>\n",
       "      <td>4.020619e+05</td>\n",
       "      <td>2897435.897</td>\n",
       "    </tr>\n",
       "    <tr>\n",
       "      <th>3</th>\n",
       "      <td>6.333333e+05</td>\n",
       "      <td>894444.4444</td>\n",
       "      <td>4.341564e+05</td>\n",
       "      <td>2933333.333</td>\n",
       "    </tr>\n",
       "    <tr>\n",
       "      <th>4</th>\n",
       "      <td>1.228175e+06</td>\n",
       "      <td>676767.6768</td>\n",
       "      <td>7.233010e+05</td>\n",
       "      <td>1450396.825</td>\n",
       "    </tr>\n",
       "  </tbody>\n",
       "</table>\n",
       "</div>"
      ],
      "text/plain": [
       "          Sakai   delta EtpD        pSE380     pSE_EtpD\n",
       "0  1.496078e+06  424092.4092  7.414966e+05  3288288.288\n",
       "1  9.719888e+05  122362.8692  2.788462e+06  4272300.469\n",
       "2  1.614790e+06  451790.6336  4.020619e+05  2897435.897\n",
       "3  6.333333e+05  894444.4444  4.341564e+05  2933333.333\n",
       "4  1.228175e+06  676767.6768  7.233010e+05  1450396.825"
      ]
     },
     "execution_count": 3,
     "metadata": {},
     "output_type": "execute_result"
    }
   ],
   "source": [
    "# Show leaf data\n",
    "leafdata.head()"
   ]
  },
  {
   "cell_type": "code",
   "execution_count": 4,
   "metadata": {
    "collapsed": false
   },
   "outputs": [
    {
     "data": {
      "text/html": [
       "<div>\n",
       "<table border=\"1\" class=\"dataframe\">\n",
       "  <thead>\n",
       "    <tr style=\"text-align: right;\">\n",
       "      <th></th>\n",
       "      <th>Sakai</th>\n",
       "      <th>delta EtpD</th>\n",
       "      <th>pSE380</th>\n",
       "      <th>pSE_EtpD</th>\n",
       "    </tr>\n",
       "  </thead>\n",
       "  <tbody>\n",
       "    <tr>\n",
       "      <th>0</th>\n",
       "      <td>4750000.000</td>\n",
       "      <td>852564.1026</td>\n",
       "      <td>439814.8148</td>\n",
       "      <td>662162.1622</td>\n",
       "    </tr>\n",
       "    <tr>\n",
       "      <th>1</th>\n",
       "      <td>2000000.000</td>\n",
       "      <td>666666.6667</td>\n",
       "      <td>588652.4823</td>\n",
       "      <td>569230.7692</td>\n",
       "    </tr>\n",
       "    <tr>\n",
       "      <th>2</th>\n",
       "      <td>2166666.667</td>\n",
       "      <td>757894.7368</td>\n",
       "      <td>699530.5164</td>\n",
       "      <td>154166.6667</td>\n",
       "    </tr>\n",
       "    <tr>\n",
       "      <th>3</th>\n",
       "      <td>4927536.232</td>\n",
       "      <td>618618.6186</td>\n",
       "      <td>682051.2821</td>\n",
       "      <td>565040.6504</td>\n",
       "    </tr>\n",
       "    <tr>\n",
       "      <th>4</th>\n",
       "      <td>5714285.714</td>\n",
       "      <td>973856.2092</td>\n",
       "      <td>628415.3005</td>\n",
       "      <td>307692.3077</td>\n",
       "    </tr>\n",
       "  </tbody>\n",
       "</table>\n",
       "</div>"
      ],
      "text/plain": [
       "         Sakai   delta EtpD       pSE380     pSE_EtpD\n",
       "0  4750000.000  852564.1026  439814.8148  662162.1622\n",
       "1  2000000.000  666666.6667  588652.4823  569230.7692\n",
       "2  2166666.667  757894.7368  699530.5164  154166.6667\n",
       "3  4927536.232  618618.6186  682051.2821  565040.6504\n",
       "4  5714285.714  973856.2092  628415.3005  307692.3077"
      ]
     },
     "execution_count": 4,
     "metadata": {},
     "output_type": "execute_result"
    }
   ],
   "source": [
    "# Show root data\n",
    "rootdata.head()"
   ]
  },
  {
   "cell_type": "markdown",
   "metadata": {},
   "source": [
    "### Process data\n",
    "\n",
    "The raw data are, as described above, divisible into batches of five as separate (`Sakai`/`WT`; `delta EtpD`/`KO`) and (`pSE380`/`empty`; `pSE_EtpD`/`complement`) results. We need to convert the data from wide to long form, introduce four categorical factors to describe the states `KO`, `pSE380`, `etpD` (complement), and introduce a further batch identifier, in blocks of five rows."
   ]
  },
  {
   "cell_type": "code",
   "execution_count": 5,
   "metadata": {
    "collapsed": true
   },
   "outputs": [],
   "source": [
    "def wide_to_long(df):\n",
    "    \"\"\"Convert wide form array to long form array.\n",
    "    \n",
    "    Assumes the columns are in order: Sakai, delta EtpD, pSE380,\n",
    "    pSE_EtpD.\n",
    "    \n",
    "    Splits the data into two tables: Sakai and delta Etpd;\n",
    "    pSE380 and pSE_EtpD. Adds a column `batch` and fills this\n",
    "    incrementally in groups of five, *not* repeating batch\n",
    "    number across the two tables.\n",
    "    \n",
    "    Then the tables are melted with all data values in a single\n",
    "    column headed CFU, and the batch column retained. The tables\n",
    "    are joined row-wide (Sakai/EtpD table on top).\n",
    "    \n",
    "    New columns are added: KO, pSE380, etpD. These columns are\n",
    "    filled as 1/0 depending on the originating column for the\n",
    "    value:\n",
    "    \n",
    "    - first 25% of rows are 0, 0, 0\n",
    "    - next 25% of rows are 1, 0, 0\n",
    "    - next 25% of rows are 1, 1, 0\n",
    "    - next 25% of rows are 1, 1, 1\n",
    "    \"\"\"\n",
    "    # Split data\n",
    "    df1 = df[['Sakai', 'delta EtpD']]\n",
    "    df2 = df[['pSE380', 'pSE_EtpD']]\n",
    "    \n",
    "    # Assign batches\n",
    "    for idx, dfn in enumerate([df1, df2]):\n",
    "        dfn['batch'] = (floor(array(dfn.index)/5) + 1).astype(int)\n",
    "        dfn['batch'] = (dfn['batch'] + (len(dfn)/5 * idx)).astype(int)\n",
    "\n",
    "    # wide to long\n",
    "    df1 = pd.melt(df1, id_vars=['batch'], value_vars=['Sakai', 'delta EtpD'])\n",
    "    df2 = pd.melt(df2, id_vars=['batch'], value_vars=['pSE380', 'pSE_EtpD'])\n",
    " \n",
    "    # Concatenate dataframes lengthwise and rename headers\n",
    "    df = pd.concat([df1, df2])\n",
    "    df.columns = ['batch', 'label', 'CFU']\n",
    "    \n",
    "    # Add factors\n",
    "    df['KO'] = [0] * int(0.25 * len(df)) + [1] * int(0.75 * len(df))\n",
    "    df['empty'] = [0] * int(0.5 * len(df)) + [1] * int(0.5 * len(df))    \n",
    "    df['complement'] = [0] * int(0.75 * len(df)) + [1] * int(0.25 * len(df))\n",
    "    \n",
    "    # Convert values to log_10 values\n",
    "    df['logCFU'] = log10(df['CFU'])\n",
    "    \n",
    "    # Make factors categorical\n",
    "    for col in ['batch', 'KO', 'empty', 'complement', 'label']:\n",
    "        df[col] = df[col].astype('category')\n",
    "    \n",
    "    return df"
   ]
  },
  {
   "cell_type": "code",
   "execution_count": 6,
   "metadata": {
    "collapsed": false
   },
   "outputs": [],
   "source": [
    "# Convert data from wide to long\n",
    "leafdata = wide_to_long(leafdata)\n",
    "rootdata = wide_to_long(rootdata)"
   ]
  },
  {
   "cell_type": "code",
   "execution_count": 7,
   "metadata": {
    "collapsed": false
   },
   "outputs": [
    {
     "data": {
      "text/html": [
       "<div>\n",
       "<table border=\"1\" class=\"dataframe\">\n",
       "  <thead>\n",
       "    <tr style=\"text-align: right;\">\n",
       "      <th></th>\n",
       "      <th>batch</th>\n",
       "      <th>label</th>\n",
       "      <th>CFU</th>\n",
       "      <th>KO</th>\n",
       "      <th>empty</th>\n",
       "      <th>complement</th>\n",
       "      <th>logCFU</th>\n",
       "    </tr>\n",
       "  </thead>\n",
       "  <tbody>\n",
       "    <tr>\n",
       "      <th>0</th>\n",
       "      <td>1</td>\n",
       "      <td>Sakai</td>\n",
       "      <td>1.496078e+06</td>\n",
       "      <td>0</td>\n",
       "      <td>0</td>\n",
       "      <td>0</td>\n",
       "      <td>6.174954</td>\n",
       "    </tr>\n",
       "    <tr>\n",
       "      <th>1</th>\n",
       "      <td>1</td>\n",
       "      <td>Sakai</td>\n",
       "      <td>9.719888e+05</td>\n",
       "      <td>0</td>\n",
       "      <td>0</td>\n",
       "      <td>0</td>\n",
       "      <td>5.987661</td>\n",
       "    </tr>\n",
       "    <tr>\n",
       "      <th>2</th>\n",
       "      <td>1</td>\n",
       "      <td>Sakai</td>\n",
       "      <td>1.614790e+06</td>\n",
       "      <td>0</td>\n",
       "      <td>0</td>\n",
       "      <td>0</td>\n",
       "      <td>6.208116</td>\n",
       "    </tr>\n",
       "    <tr>\n",
       "      <th>3</th>\n",
       "      <td>1</td>\n",
       "      <td>Sakai</td>\n",
       "      <td>6.333333e+05</td>\n",
       "      <td>0</td>\n",
       "      <td>0</td>\n",
       "      <td>0</td>\n",
       "      <td>5.801632</td>\n",
       "    </tr>\n",
       "    <tr>\n",
       "      <th>4</th>\n",
       "      <td>1</td>\n",
       "      <td>Sakai</td>\n",
       "      <td>1.228175e+06</td>\n",
       "      <td>0</td>\n",
       "      <td>0</td>\n",
       "      <td>0</td>\n",
       "      <td>6.089260</td>\n",
       "    </tr>\n",
       "  </tbody>\n",
       "</table>\n",
       "</div>"
      ],
      "text/plain": [
       "  batch  label           CFU KO empty complement    logCFU\n",
       "0     1  Sakai  1.496078e+06  0     0          0  6.174954\n",
       "1     1  Sakai  9.719888e+05  0     0          0  5.987661\n",
       "2     1  Sakai  1.614790e+06  0     0          0  6.208116\n",
       "3     1  Sakai  6.333333e+05  0     0          0  5.801632\n",
       "4     1  Sakai  1.228175e+06  0     0          0  6.089260"
      ]
     },
     "execution_count": 7,
     "metadata": {},
     "output_type": "execute_result"
    }
   ],
   "source": [
    "# Show leaf data\n",
    "leafdata.head()"
   ]
  },
  {
   "cell_type": "code",
   "execution_count": 8,
   "metadata": {
    "collapsed": false
   },
   "outputs": [
    {
     "data": {
      "text/html": [
       "<div>\n",
       "<table border=\"1\" class=\"dataframe\">\n",
       "  <thead>\n",
       "    <tr style=\"text-align: right;\">\n",
       "      <th></th>\n",
       "      <th>batch</th>\n",
       "      <th>label</th>\n",
       "      <th>CFU</th>\n",
       "      <th>KO</th>\n",
       "      <th>empty</th>\n",
       "      <th>complement</th>\n",
       "      <th>logCFU</th>\n",
       "    </tr>\n",
       "  </thead>\n",
       "  <tbody>\n",
       "    <tr>\n",
       "      <th>0</th>\n",
       "      <td>1</td>\n",
       "      <td>Sakai</td>\n",
       "      <td>4750000.000</td>\n",
       "      <td>0</td>\n",
       "      <td>0</td>\n",
       "      <td>0</td>\n",
       "      <td>6.676694</td>\n",
       "    </tr>\n",
       "    <tr>\n",
       "      <th>1</th>\n",
       "      <td>1</td>\n",
       "      <td>Sakai</td>\n",
       "      <td>2000000.000</td>\n",
       "      <td>0</td>\n",
       "      <td>0</td>\n",
       "      <td>0</td>\n",
       "      <td>6.301030</td>\n",
       "    </tr>\n",
       "    <tr>\n",
       "      <th>2</th>\n",
       "      <td>1</td>\n",
       "      <td>Sakai</td>\n",
       "      <td>2166666.667</td>\n",
       "      <td>0</td>\n",
       "      <td>0</td>\n",
       "      <td>0</td>\n",
       "      <td>6.335792</td>\n",
       "    </tr>\n",
       "    <tr>\n",
       "      <th>3</th>\n",
       "      <td>1</td>\n",
       "      <td>Sakai</td>\n",
       "      <td>4927536.232</td>\n",
       "      <td>0</td>\n",
       "      <td>0</td>\n",
       "      <td>0</td>\n",
       "      <td>6.692630</td>\n",
       "    </tr>\n",
       "    <tr>\n",
       "      <th>4</th>\n",
       "      <td>1</td>\n",
       "      <td>Sakai</td>\n",
       "      <td>5714285.714</td>\n",
       "      <td>0</td>\n",
       "      <td>0</td>\n",
       "      <td>0</td>\n",
       "      <td>6.756962</td>\n",
       "    </tr>\n",
       "  </tbody>\n",
       "</table>\n",
       "</div>"
      ],
      "text/plain": [
       "  batch  label          CFU KO empty complement    logCFU\n",
       "0     1  Sakai  4750000.000  0     0          0  6.676694\n",
       "1     1  Sakai  2000000.000  0     0          0  6.301030\n",
       "2     1  Sakai  2166666.667  0     0          0  6.335792\n",
       "3     1  Sakai  4927536.232  0     0          0  6.692630\n",
       "4     1  Sakai  5714285.714  0     0          0  6.756962"
      ]
     },
     "execution_count": 8,
     "metadata": {},
     "output_type": "execute_result"
    }
   ],
   "source": [
    "# Show root data\n",
    "rootdata.head()"
   ]
  },
  {
   "cell_type": "markdown",
   "metadata": {
    "collapsed": true
   },
   "source": [
    "### Inspect data\n",
    "\n",
    "We can visualise the data for root and leaf applications to see trends, such as whether there are batch effects that need to be considered:"
   ]
  },
  {
   "cell_type": "code",
   "execution_count": 9,
   "metadata": {
    "collapsed": false
   },
   "outputs": [
    {
     "data": {
      "image/png": "[encoded data removed]",
      "text/plain": [
       "<matplotlib.figure.Figure at 0x112050748>"
      ]
     },
     "metadata": {},
     "output_type": "display_data"
    }
   ],
   "source": [
    "# Plot leaf data by treatment, split by batch\n",
    "ax = sns.stripplot(x='label', y='logCFU', hue='batch',\n",
    "                   data=leafdata,\n",
    "                   jitter=True, dodge=True)"
   ]
  },
  {
   "cell_type": "code",
   "execution_count": 10,
   "metadata": {
    "collapsed": false
   },
   "outputs": [
    {
     "data": {
      "image/png": "[encoded data removed]",
      "text/plain": [
       "<matplotlib.figure.Figure at 0x1120cb860>"
      ]
     },
     "metadata": {},
     "output_type": "display_data"
    }
   ],
   "source": [
    "# Plot root data by treatment, split by batch\n",
    "ax = sns.stripplot(x='label', y='logCFU', hue='batch',\n",
    "                   data=rootdata,\n",
    "                   jitter=True, dodge=True)"
   ]
  },
  {
   "cell_type": "markdown",
   "metadata": {},
   "source": [
    "From these plots we can see that there appear to be strong batch effects for both sets of experiments.\n",
    "\n",
    "1. In the leaf data, batch 1 (`WT`/`KO`) seems to give lower logCFU readings than batch 2 (`WT`/`KO`).\n",
    "2. For the root data, batches 1 and 2 (`WT`/`KO`) seems to give lower logCFU values than batches 3 and 4 (`WT`/`KO`).\n",
    "3. Also for the root data, batch 5 appears to give lower logCFU values than batches 6-8 (`WT`/`KO`).\n",
    "\n",
    "This indicates that normalisation of data across batches is required prior to statistical analysis, or that the analysis used should explicitly take into account batch effects."
   ]
  },
  {
   "cell_type": "markdown",
   "metadata": {},
   "source": [
    "## 3. Model definition <a id=\"definition\"></a>\n",
    "\n",
    "We assume that each measurement with index *i* measures the logCFU (proxy for extent of adherence/attachment) of a particular Sakai variant when recovered from plant tissue. We define this measurement as the output $y_{i}$, and assume that it represents the true value of logCFU ($\\hat{y_{i}}$) plus some irreducible error in the measurement ($\\epsilon$), which is assumed to be the same for all measurements, and normally-distributed with mean 0 and variance $\\sigma^{2}_{y}$.\n",
    "\n",
    "$$y_i = \\hat{y_i} + \\epsilon_i$$\n",
    "$$\\epsilon_i \\sim N(0, \\sigma_y^2) \\implies y_i \\sim N(\\hat{y_i}, \\sigma_y^2)$$"
   ]
  },
  {
   "cell_type": "markdown",
   "metadata": {},
   "source": [
    "We assume that the 'true' value $\\hat{y_{i}}$ is determined by a combination of factors:\n",
    "\n",
    "1. The 'inherent' tendency of the `WT` wild-type variant to adhere to the tissue (shared by all datapoints)\n",
    "2. Modification of (1) by the specific loss of *etpD*\n",
    "3. Modification of (1) by the presence of plasmid pSE380\n",
    "4. Modification of (1) by the presence of *etpD* on plasmid pSE380\n",
    "5. Effects specific to the batch\n",
    "\n",
    "We treat each of these factors as, essentially, the additive results of categorical effects.\n",
    "\n",
    "(1) is essentially an intercept, as all observations are of either unmodified or modified WT Sakai, and can be represented as the parameter $\\alpha$\n",
    "\n",
    "(2)-(4) can be coded as `1/0` integer values for a measurement with index $i$ ($t_i$, $u_i$, $v_i$), each with its own parameter ($\\beta$, $\\gamma$, $\\delta$) representing combinations of influences. Splitting the factors in this way enables 'borrowing' of data from the plasmid-bearing variants for the estimate of the effect due to loss of *etpD*. Similarly, it enables the direct estimation of the effect of reintroducing *etpD* as a complement. With this interpretation, the parameters have the meanings:\n",
    "\n",
    "* $\\beta$ - the change in logCFU due to loss of *etpD* with respect to the wild type\n",
    "* $\\gamma$ - the change in logCFU due to incorporation of the pSE380 plasmid. Note that as there is no experiment in which the wild-type Sakai carries this plasmid, this parameter only estimates the effect in a $\\Delta etpD$ background.\n",
    "* $\\delta$ - the change in logCFU due to incorporation of *etpD* on the pSE380 plasmid. Note again that this parameter only estimates the effect in a $\\Delta etpD$ Sakai background, due to the experiment structure.\n",
    "\n",
    "(5) Can be represented as an array of parameters, $\\phi_{j_{i}}$, where $j \\in {1, 2, \\ldots, n}$ and $n$ is the number of batches. Each value of $\\phi_{j_{i}}$ represents the effect due to batch $j_{i}$ - the batch to which measurement $i$ belongs.\n",
    "\n",
    "We choose to model each of these parameters as an additive effect acting upon the baseline adherence $\\alpha$. Parameters estimated to have negative values diminish adherence; parameters estimated to have positive values enhance adherence. Parameters whose credibility interval span zero will not have been shown to modify baseline adherence.\n",
    "\n",
    "For each parameter's prior we choose a Cauchy distribution:\n",
    "\n",
    "$$\\alpha \\sim Cauchy(\\mu_{\\alpha}, \\sigma_{\\alpha}^2)$$\n",
    "$$\\beta \\sim Cauchy(\\mu_{\\beta}, \\sigma_{\\beta}^2)$$\n",
    "$$\\gamma \\sim Cauchy(\\mu_{\\gamma}, \\sigma_{\\gamma}^2)$$\n",
    "$$\\delta \\sim Cauchy(\\mu_{\\delta}, \\sigma_{\\delta}^2)$$\n",
    "\n",
    "where the variance of each parameter's prior can be drawn from a weak prior. We choose an exponential distribution with mean of unity:\n",
    "\n",
    "$$\\sigma_\\alpha \\sim \\textrm{Exp}(1)$$\n",
    "$$\\sigma_\\beta \\sim \\textrm{Exp}(1)$$\n",
    "$$\\sigma_\\gamma \\sim \\textrm{Exp}(1)$$\n",
    "$$\\sigma_\\delta \\sim \\textrm{Exp}(1)$$\n",
    "\n",
    "We define batch effects for batch $j_i$ (the batch from which measurement $i$ is drawn) in the same way:\n",
    "\n",
    "$$j_i \\in {1, 2, \\ldots, 8}$$\n",
    "$$\\phi_{j_{i}} \\sim Cauchy(\\mu_{\\phi_{j_{i}}}, \\sigma_{\\phi_{j_{i}}}^2)$$\n",
    "$$\\sigma_{\\phi_{j_{i}}} \\sim \\textrm{Exp}(1)$$"
   ]
  },
  {
   "cell_type": "markdown",
   "metadata": {},
   "source": [
    "<div class=\"alert-success\">\n",
    "<b>We therefore construct the following model of the experiment, for a given tissue:</b>\n",
    "\n",
    "$$y_i = \\hat{y_i} + \\epsilon_i$$\n",
    "$$\\hat{y_i} = \\alpha + \\beta t_i + \\gamma u_i + \\delta v_i + \\phi_{j_{i}}$$\n",
    "\n",
    "$$j_i \\in {1, 2, \\ldots, 8}$$\n",
    "\n",
    "$$\\alpha \\sim Cauchy(\\mu_{\\alpha}, \\sigma_{\\alpha}^2)$$\n",
    "$$\\beta \\sim Cauchy(\\mu_{\\beta}, \\sigma_{\\beta}^2)$$\n",
    "$$\\gamma \\sim Cauchy(\\mu_{\\gamma}, \\sigma_{\\gamma}^2)$$\n",
    "$$\\delta \\sim Cauchy(\\mu_{\\delta}, \\sigma_{\\delta}^2)$$\n",
    "$$\\phi_{j_{i}} \\sim Cauchy(\\mu_{\\phi_{j_{i}}}, \\sigma_{\\phi_{j_{i}}}^2)$$\n",
    "\n",
    "$$\\sigma_\\alpha \\sim \\textrm{Exp}(1)$$\n",
    "$$\\sigma_\\beta \\sim \\textrm{Exp}(1)$$\n",
    "$$\\sigma_\\gamma \\sim \\textrm{Exp}(1)$$\n",
    "$$\\sigma_\\delta \\sim \\textrm{Exp}(1)$$\n",
    "$$\\sigma_{\\phi_{j_{i}}} \\sim \\textrm{Exp}(1)$$\n",
    "\n",
    "<ul>\n",
    "<li> $y_i$: measured logCFU for a single application $i$ of bacteria to a plant\n",
    "<li> $\\hat{y_i}$: 'true' logCFU for a single application $i$ of bacteria to a plant\n",
    "<li> $\\epsilon_i$: measurement error in logCFU for a single application of $i$ of bacteria to a plant\n",
    "<li> $\\alpha$: the expected logCFU for wild-type (`WT`) Sakai to a plant\n",
    "<li> $\\mu_\\alpha$: mean logCFU for `WT` Sakai on the plant\n",
    "<li> $\\sigma_\\alpha$: variance logCFU for `WT` Sakai on the plant\n",
    "<li> $\\beta$: the expected modification of logCFU w.r.t. `WT` as the result of deletion of *etpD*\n",
    "<li> $\\mu_\\beta$: mean change in logCFU for `KO` w.r.t. `WT` Sakai on the plant\n",
    "<li> $\\sigma_\\alpha$: variance for change in logCFU for `KO` w.r.t. `WT` Sakai on the plant\n",
    "<li> $t_i$: 0/1 pseudovariable indicating whether the strain used for $i$ is $\\Delta etpD$ (is `KO`)\n",
    "<li> $\\gamma$: the expected modification of logCFU w.r.t. `KO` as the result of incorporation of plasmid pSE380\n",
    "<li> $\\mu_\\gamma$: mean change in logCFU for `empty` w.r.t. `KO` Sakai on the plant\n",
    "<li> $\\sigma_\\gamma$: variance for change in logCFU for `empty` w.r.t. `KO` Sakai on the plant\n",
    "<li> $u_i$: 0/1 pseudovariable indicating whether the strain used for $i$ is $\\Delta etpD$ and carrying pSE380 (is `empty`)\n",
    "<li> $\\delta$: the expected modification of logCFU w.r.t. `empty` as the result of complementation with *etpD*\n",
    "<li> $\\mu_\\delta$: mean change in logCFU for `complement` w.r.t. `empty` Sakai on the plant\n",
    "<li> $\\sigma_\\delta$: variance for change in logCFU for `complement` w.r.t. `empty` Sakai on the plant\n",
    "<li> $v_i$: 0/1 pseudovariable indicating whether the strain used for $i$ is $\\Delta etpD$, carrying pSE380, and includes the complemented *etpD* (is `complement`)\n",
    "<li> $j_i$: the batch from which $i$ is drawn, $j \\in {1, 2, \\ldots, 8}$\n",
    "<li> $\\phi_{j_{i}}$: the expected modification of logCFU for batch $j_i$ w.r.t. `WT`\n",
    "<li> $\\mu_{\\phi_{j_{i}}}$: mean change in logCFU for batch $j_i$ w.r.t. `WT`\n",
    "<li> $\\sigma_{\\phi_{j_{i}}}$: variance for change in logCFU for batch $j_i$ w.r.t. `WT`\n",
    "</div>"
   ]
  },
  {
   "cell_type": "code",
   "execution_count": null,
   "metadata": {
    "collapsed": true
   },
   "outputs": [],
   "source": []
  }
 ],
 "metadata": {
  "kernelspec": {
   "display_name": "Python 3",
   "language": "python",
   "name": "python3"
  },
  "language_info": {
   "codemirror_mode": {
    "name": "ipython",
    "version": 3
   },
   "file_extension": ".py",
   "mimetype": "text/x-python",
   "name": "python",
   "nbconvert_exporter": "python",
   "pygments_lexer": "ipython3",
   "version": "3.6.1"
  }
 },
 "nbformat": 4,
 "nbformat_minor": 1
}
