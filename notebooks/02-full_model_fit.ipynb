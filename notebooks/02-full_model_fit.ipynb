{
 "cells": [
  {
   "cell_type": "markdown",
   "metadata": {},
   "source": [
    "# Supplementary Information: Holmes *et al.* 2017\n",
    "\n",
    "# 2. Full model fitting\n",
    "\n",
    "This notebook describes fitting of the Bayesian hierarchical model of the effect of control and treatment, by gene/locus tag, to the full array dataset."
   ]
  },
  {
   "cell_type": "markdown",
   "metadata": {},
   "source": [
    "## Python imports"
   ]
  },
  {
   "cell_type": "code",
   "execution_count": 1,
   "metadata": {
    "collapsed": false
   },
   "outputs": [
    {
     "name": "stdout",
     "output_type": "stream",
     "text": [
      "Populating the interactive namespace from numpy and matplotlib\n"
     ]
    },
    {
     "name": "stderr",
     "output_type": "stream",
     "text": [
      "/Users/lpritc/Development/GitHub/Supplementary_Info/SI_Holmes_etal_2016/venv-SI_Holmes_2016/lib/python3.5/site-packages/Cython/Distutils/old_build_ext.py:30: UserWarning: Cython.Distutils.old_build_ext does not properly handle dependencies and is deprecated.\n",
      "  \"Cython.Distutils.old_build_ext does not properly handle dependencies \"\n"
     ]
    }
   ],
   "source": [
    "%pylab inline\n",
    "\n",
    "import os\n",
    "\n",
    "import numpy as np\n",
    "import pandas as pd\n",
    "import pickle\n",
    "import pystan\n",
    "import scipy\n",
    "import seaborn as sns\n",
    "\n",
    "import tools\n",
    "\n",
    "import warnings\n",
    "warnings.filterwarnings('ignore')\n",
    "\n",
    "sns.set_context('notebook')"
   ]
  },
  {
   "cell_type": "markdown",
   "metadata": {},
   "source": [
    "## Building the model\n",
    "\n",
    "We construct our model to use groupwise (by gene ID) values for $\\gamma_{j[i]}$ and $\\delta_{j[i]}$, where these coefficients are each drawn from a pooled distribution covering all *gene IDs*. This assumes that the intercept and slope for the relationship between *input* and *output* has the same distribution across all *gene IDs*; this may not be true: we expect that some genes are more responsive than others, in terms of selection. We use a Cauchy distribution (which has fat tails with infinite variance) as a prior on parameter values.\n",
    "\n",
    "We therefore construct the following model of the experiment:\n",
    "\n",
    "$$y_i = \\alpha_{j[i]} + \\beta_{j[i]} x_i + \\gamma_{j[i]} t_i + \\delta_{j[i]} t_i x_i + \\epsilon_i$$\n",
    "$$\\alpha_{j[i]} \\sim Cauchy(\\mu_{\\alpha}, \\sigma_{\\alpha}^2)$$\n",
    "$$\\beta_{j[i]} \\sim Cauchy(\\mu_{\\beta}, \\sigma_{\\beta}^2)$$\n",
    "$$\\gamma_{j[i]} \\sim Cauchy(\\mu_{\\gamma}, \\sigma_{\\gamma}^2)$$\n",
    "$$\\delta_{j[i]} \\sim Cauchy(\\mu_{\\delta}, \\sigma_{\\delta}^2)$$\n",
    "$$\\sigma_{\\alpha} \\sim U(0, 100)$$\n",
    "$$\\sigma_{\\beta} \\sim U(0, 100)$$\n",
    "$$\\sigma_{\\gamma} \\sim U(0, 100)$$\n",
    "$$\\sigma_{\\delta} \\sim U(0, 100)$$\n",
    "\n",
    "\n",
    "* $y_i$: measured intensity output on the array for probe $i$ (specific to each replicate)\n",
    "* $x_i$: measured intensity input on the array for probe $i$ (specific to each replicate)\n",
    "* $t_i$: 0/1 indicating whether the probe $i$ was measured in a control (0) or treatment (1) experiment\n",
    "* $\\alpha_{j[i]}$: the linear intercept, this is a constant 'offset' for all *output* measurements relative to *input* measurements, but it differs for each *gene ID*; this is drawn from a Normal distribution $\\sim N(\\mu_{\\alpha}, \\sigma_{\\alpha}^2)$\n",
    "* $\\mu_{\\alpha}$: the mean offset for all *gene ID*s\n",
    "* $\\sigma_{\\alpha}$: the standard deviation of the offset for all *gene ID*s - sampled from a Uniform distribution $U(0, 100)$\n",
    "* $\\beta_{j[i]}$: the linear slope, this is the relative change in measured intensity between *input* and *output* intensities *at the probe ID level* - it differs for each *gene ID*; this is drawn from a Normal distribution $\\sim N(\\mu_{\\beta}, \\sigma_{\\beta}^2)$\n",
    "* $\\mu_{\\beta}$: the mean slope for all *gene ID*s\n",
    "* $\\sigma_{\\beta}$: the standard deviation of the slope for all *gene ID*s - sampled from a Uniform distribution $U(0, 100)$\n",
    "* $\\gamma_{j[i]}$: a groupwise estimate of the influence on *output* measured intensity of introducing passage (*treatment*) into the experiment (i.e. an intercept correction)\n",
    "* $\\mu_{\\gamma}$: the mean intercept due to *treatment* for each *gene ID*\n",
    "* $\\sigma_{\\gamma}$: the standard deviation of the offset for each *gene ID* due to the *treatment* - sampled from a Uniform distribution $U(0, 100)$\n",
    "* $\\delta_{j[i]}$: a groupwise estimate of the influence on *output* measured intensity of introducing passage (*treatment*) into the experiment, as a function of the *input* measured intensity (i.e. a slope correction)\n",
    "* $\\mu_{\\delta}$: the mean slope due to *treatment* for each *gene ID*\n",
    "* $\\sigma_{\\delta}$: the standard deviation of the slope for each *gene ID* due to *treatment* - sampled from a Uniform distribution $U(0, 100)$\n",
    "* $\\epsilon_i$: error in the model prediction for probe $i$"
   ]
  },
  {
   "cell_type": "markdown",
   "metadata": {},
   "source": [
    "### Stan model construction and fit\n",
    "\n",
    "We need to define `data`, `parameters` and our `model` for `Stan`.\n",
    "\n",
    "In the `data` block, we have:\n",
    "\n",
    "* `N`: `int`, the number of data points\n",
    "* `J`: `int`, the number of unique locus tags (`J` < `N`)\n",
    "* `tag`: `int[N]`, an index list of locus tags\n",
    "* `t`: `vector[N]`, 0/1 control/treatment values for each probe\n",
    "* `x`: `vector[N]`, the input log(intensity) values\n",
    "* `y`: `vector[N]`, the output log(intensity) values\n",
    "\n",
    "In the `parameter` block, we have:\n",
    "\n",
    "* `a`: `real vector[J]`, offset effect on log(intensity) of passing through the experiment for each locus tag/gene\n",
    "* `mu_a`: `real`, an unconstrained value to be fit that represents the mean offset for all locus tags\n",
    "* `b`: `real vector[J]`, effect on log(intensity) of passing through the experiment, for each locus tag/gene\n",
    "* `mu_b`: `real`, an unconstrained value to be fit that represents the mean slope for all locus tags\n",
    "* `g`: `real vector[J]`, estimate of the influence of treatment on the output measured intensity (offset) for each locus tag/gene\n",
    "* `mu_g`: `real`, an unconstrained value to be fit that represents the mean offset for all locus tags due to *treatment*\n",
    "* `d`: `real vector[J]`, estimate of the influence of treatment on the output measured intensity (slope) for each locus tag/gene\n",
    "* `mu_d`: `real`, an unconstrained value to be fit that represents the mean slope for all locus tags due to *treatment*\n",
    "* `sigma`: `real<lower=0>`, the error in the prediction\n",
    "* `sigma_a`: `real<lower=0,upper=100>`, standard deviation of the offset for all locus tags\n",
    "* `sigma_b`: `real<lower=0,upper=100>`, standard deviation of the slope for all locus tag\n",
    "* `sigma_g`: `real<lower=0,upper=100>`, standard deviation of the offset for all locus tags due to *treatment*\n",
    "* `sigma_d`: `real<lower=0,upper=100>`, standard deviation of the slope for all locus tags due to *treatment*\n",
    "\n",
    "\n",
    "We also define a `transformed parameter`:\n",
    "\n",
    "* `y_hat[i] <- b[tag[i]] * x[i] + a[tag[i]] + g[tag[i]] * t[i] + d[tag[i]] * t[i] * x[i]`: the linear relationship describing $\\hat{y}$, our estimate of experimental output intensity, which is subject to variance `sigma`.\n",
    "\n",
    "We define the model as:\n",
    "\n",
    "$$\\sigma_{\\alpha} \\sim U(0, 100)$$\n",
    "$$\\alpha_{j[i]} \\sim Cauchy(\\mu_{\\alpha}, \\sigma_{\\alpha}^2)$$\n",
    "$$\\sigma_{\\beta} \\sim U(0, 100)$$\n",
    "$$\\beta_{j[i]} \\sim Cauchy(\\mu_{\\beta}, \\sigma_{\\beta}^2)$$\n",
    "$$\\sigma_{\\gamma} \\sim U(0, 100)$$\n",
    "$$\\gamma_{j[i]} \\sim Cauchy(\\mu_{\\gamma}, \\sigma_{\\gamma}^2)$$\n",
    "$$\\sigma_{\\delta} \\sim U(0, 100)$$\n",
    "$$\\delta_{j[i]} \\sim Cauchy(\\mu_{\\delta}, \\sigma_{\\delta}^2)$$\n",
    "$$y \\sim N(\\hat{y}, \\sigma^2)$$\n"
   ]
  },
  {
   "cell_type": "markdown",
   "metadata": {},
   "source": [
    "### Load input data for fit\n",
    "\n",
    "In the cells below we load in the data to be fit, and define useful variables for inspecting/analysing the data later:\n",
    "\n",
    "* `locus_tags`: the unique locus tags represented in the dataset\n",
    "* `ntags`: the number of unique locus tags\n",
    "* `outdir`: path to the directory in which to place model fit output\n",
    "* `outfile`: path to the model fit output file (pickled dataframe)"
   ]
  },
  {
   "cell_type": "code",
   "execution_count": 2,
   "metadata": {
    "collapsed": true
   },
   "outputs": [],
   "source": [
    "# load clean, normalised, indexed data\n",
    "data = pd.read_csv(\"datasets/normalised_array_data.tab\", sep=\"\\t\")  # full dataset\n",
    "\n",
    "# useful values\n",
    "locus_tags = data['locus_tag'].unique()\n",
    "ntags = len(locus_tags)"
   ]
  },
  {
   "cell_type": "code",
   "execution_count": 3,
   "metadata": {
    "collapsed": false
   },
   "outputs": [],
   "source": [
    "# Create output directory and filename\n",
    "outdir = \"model_fits\"\n",
    "os.makedirs(outdir, exist_ok=True)\n",
    "outfile = os.path.join(outdir, 'full_model_fit.pkl')"
   ]
  },
  {
   "cell_type": "markdown",
   "metadata": {},
   "source": [
    "### Define and fit the Stan model\n",
    "\n",
    "In the cells below we define the model to be fit, in the Stan language, conduct the fit, and save the fit out to a pickled dataframe>"
   ]
  },
  {
   "cell_type": "code",
   "execution_count": 4,
   "metadata": {
    "collapsed": true
   },
   "outputs": [],
   "source": [
    "# define unpooled stan model\n",
    "treatment_model = \"\"\"\n",
    "data {\n",
    "  int<lower=0> N;\n",
    "  int<lower=0> J;\n",
    "  int<lower=1, upper=J> tag[N];\n",
    "  vector[N] t;\n",
    "  vector[N] x;\n",
    "  vector[N] y;\n",
    "}\n",
    "parameters {\n",
    "  vector[J] a;\n",
    "  vector[J] b;\n",
    "  vector[J] g;\n",
    "  vector[J] d;\n",
    "  real mu_a;\n",
    "  real mu_b;\n",
    "  real mu_g;\n",
    "  real mu_d;\n",
    "  real<lower=0> sigma;\n",
    "  real<lower=0,upper=100> sigma_a;\n",
    "  real<lower=0,upper=100> sigma_b;\n",
    "  real<lower=0,upper=100> sigma_g;\n",
    "  real<lower=0,upper=100> sigma_d;\n",
    "}\n",
    "transformed parameters{\n",
    "  vector[N] y_hat;\n",
    "\n",
    "  for (i in 1:N)\n",
    "    y_hat[i] = a[tag[i]] + b[tag[i]] * x[i] + g[tag[i]] * t[i] + d[tag[i]] * t[i] * x[i];\n",
    "}\n",
    "model {\n",
    "  sigma_a ~ uniform(0, 100);\n",
    "  a ~ cauchy(mu_a, sigma_a);\n",
    "\n",
    "  sigma_b ~ uniform(0, 100);\n",
    "  b ~ cauchy(mu_b, sigma_b);\n",
    "\n",
    "  sigma_g ~ uniform(0, 100);\n",
    "  g ~ cauchy(mu_g, sigma_g);\n",
    "\n",
    "  sigma_d ~ uniform(0, 100);\n",
    "  d ~ cauchy(mu_d, sigma_d);\n",
    "\n",
    "  y ~ normal(y_hat, sigma);\n",
    "}\n",
    "\"\"\""
   ]
  },
  {
   "cell_type": "code",
   "execution_count": 5,
   "metadata": {
    "collapsed": false
   },
   "outputs": [],
   "source": [
    "# relate python variables to stan variables\n",
    "treatment_data_dict = {'N': len(data),\n",
    "                       'J': ntags,\n",
    "                       'tag': data['locus_tag_index'] + 1,\n",
    "                       't': data['treatment'],\n",
    "                       'x': data['log_input'],\n",
    "                       'y': data['log_output']}"
   ]
  },
  {
   "cell_type": "code",
   "execution_count": 6,
   "metadata": {
    "collapsed": false
   },
   "outputs": [],
   "source": [
    "# run stan fit\n",
    "#treatment_fit = pystan.stan(model_code=treatment_model,\n",
    "#                            data=treatment_data_dict,\n",
    "#                            iter=1000, chains=2,\n",
    "#                            seed=tools.SEED)"
   ]
  },
  {
   "cell_type": "code",
   "execution_count": 7,
   "metadata": {
    "collapsed": true
   },
   "outputs": [],
   "source": [
    "# Save model to file, for reuse# Save fit to file, for reuse\n",
    "#unpermutedChains = treatment_fit.extract()\n",
    "#unpermutedChains_df = pd.DataFrame([dict(unpermutedChains)])\n",
    "#pickle.dump(unpermutedChains_df, open(outfile, 'wb'))"
   ]
  },
  {
   "cell_type": "markdown",
   "metadata": {},
   "source": [
    "### Extract the fit\n",
    "\n",
    "In the cells below we load in the contents of the pickled output (if the fit has already been run), and then extract useful summary information about mean, median, variance, and credibility intervals for the parameter estimates."
   ]
  },
  {
   "cell_type": "code",
   "execution_count": 8,
   "metadata": {
    "collapsed": false
   },
   "outputs": [],
   "source": [
    "# Uncomment the line below to import a previously-fit model\n",
    "treatment_fit = pickle.load(open(outfile, 'rb'))"
   ]
  },
  {
   "cell_type": "code",
   "execution_count": 9,
   "metadata": {
    "collapsed": false
   },
   "outputs": [
    {
     "data": {
      "text/html": [
       "<div>\n",
       "<table border=\"1\" class=\"dataframe\">\n",
       "  <thead>\n",
       "    <tr style=\"text-align: right;\">\n",
       "      <th></th>\n",
       "      <th>locus_tag</th>\n",
       "      <th>a_2.5pc</th>\n",
       "      <th>a_25pc</th>\n",
       "      <th>a_75pc</th>\n",
       "      <th>a_97.5pc</th>\n",
       "      <th>a_mean</th>\n",
       "      <th>a_median</th>\n",
       "      <th>a_sem</th>\n",
       "      <th>b_2.5pc</th>\n",
       "      <th>b_25pc</th>\n",
       "      <th>...</th>\n",
       "      <th>g_mean</th>\n",
       "      <th>g_median</th>\n",
       "      <th>g_sem</th>\n",
       "      <th>d_2.5pc</th>\n",
       "      <th>d_25pc</th>\n",
       "      <th>d_75pc</th>\n",
       "      <th>d_97.5pc</th>\n",
       "      <th>d_mean</th>\n",
       "      <th>d_median</th>\n",
       "      <th>d_sem</th>\n",
       "    </tr>\n",
       "  </thead>\n",
       "  <tbody>\n",
       "    <tr>\n",
       "      <th>5515</th>\n",
       "      <td>ECDH10B_RS00010</td>\n",
       "      <td>0.029129</td>\n",
       "      <td>0.244940</td>\n",
       "      <td>0.332219</td>\n",
       "      <td>0.426666</td>\n",
       "      <td>0.276330</td>\n",
       "      <td>0.295267</td>\n",
       "      <td>0.097412</td>\n",
       "      <td>0.918105</td>\n",
       "      <td>0.937876</td>\n",
       "      <td>...</td>\n",
       "      <td>0.373606</td>\n",
       "      <td>0.386956</td>\n",
       "      <td>0.091973</td>\n",
       "      <td>-0.090580</td>\n",
       "      <td>-0.062259</td>\n",
       "      <td>-0.055452</td>\n",
       "      <td>-0.036866</td>\n",
       "      <td>-0.059451</td>\n",
       "      <td>-0.058879</td>\n",
       "      <td>0.011430</td>\n",
       "    </tr>\n",
       "    <tr>\n",
       "      <th>4705</th>\n",
       "      <td>ECDH10B_RS00020</td>\n",
       "      <td>0.169773</td>\n",
       "      <td>0.272327</td>\n",
       "      <td>0.336390</td>\n",
       "      <td>0.427064</td>\n",
       "      <td>0.303134</td>\n",
       "      <td>0.305796</td>\n",
       "      <td>0.060675</td>\n",
       "      <td>0.923711</td>\n",
       "      <td>0.938501</td>\n",
       "      <td>...</td>\n",
       "      <td>0.385294</td>\n",
       "      <td>0.391275</td>\n",
       "      <td>0.064762</td>\n",
       "      <td>-0.079569</td>\n",
       "      <td>-0.062273</td>\n",
       "      <td>-0.054959</td>\n",
       "      <td>-0.044358</td>\n",
       "      <td>-0.059307</td>\n",
       "      <td>-0.058405</td>\n",
       "      <td>0.008574</td>\n",
       "    </tr>\n",
       "    <tr>\n",
       "      <th>5475</th>\n",
       "      <td>ECDH10B_RS00060</td>\n",
       "      <td>0.092371</td>\n",
       "      <td>0.268534</td>\n",
       "      <td>0.338677</td>\n",
       "      <td>0.493763</td>\n",
       "      <td>0.297471</td>\n",
       "      <td>0.307758</td>\n",
       "      <td>0.099552</td>\n",
       "      <td>0.916767</td>\n",
       "      <td>0.938826</td>\n",
       "      <td>...</td>\n",
       "      <td>0.383268</td>\n",
       "      <td>0.389446</td>\n",
       "      <td>0.073516</td>\n",
       "      <td>-0.089941</td>\n",
       "      <td>-0.063986</td>\n",
       "      <td>-0.055564</td>\n",
       "      <td>-0.036741</td>\n",
       "      <td>-0.060844</td>\n",
       "      <td>-0.059464</td>\n",
       "      <td>0.012340</td>\n",
       "    </tr>\n",
       "    <tr>\n",
       "      <th>5474</th>\n",
       "      <td>ECDH10B_RS00065</td>\n",
       "      <td>0.091092</td>\n",
       "      <td>0.258078</td>\n",
       "      <td>0.334934</td>\n",
       "      <td>0.449760</td>\n",
       "      <td>0.294165</td>\n",
       "      <td>0.302821</td>\n",
       "      <td>0.081867</td>\n",
       "      <td>0.907745</td>\n",
       "      <td>0.938434</td>\n",
       "      <td>...</td>\n",
       "      <td>0.385307</td>\n",
       "      <td>0.391122</td>\n",
       "      <td>0.106802</td>\n",
       "      <td>-0.090234</td>\n",
       "      <td>-0.062454</td>\n",
       "      <td>-0.054761</td>\n",
       "      <td>-0.040138</td>\n",
       "      <td>-0.059514</td>\n",
       "      <td>-0.058488</td>\n",
       "      <td>0.011435</td>\n",
       "    </tr>\n",
       "    <tr>\n",
       "      <th>5469</th>\n",
       "      <td>ECDH10B_RS00070</td>\n",
       "      <td>0.083468</td>\n",
       "      <td>0.265716</td>\n",
       "      <td>0.334018</td>\n",
       "      <td>0.413204</td>\n",
       "      <td>0.291290</td>\n",
       "      <td>0.301167</td>\n",
       "      <td>0.073938</td>\n",
       "      <td>0.918311</td>\n",
       "      <td>0.938084</td>\n",
       "      <td>...</td>\n",
       "      <td>0.373458</td>\n",
       "      <td>0.389639</td>\n",
       "      <td>0.107962</td>\n",
       "      <td>-0.130703</td>\n",
       "      <td>-0.067450</td>\n",
       "      <td>-0.056503</td>\n",
       "      <td>-0.047106</td>\n",
       "      <td>-0.068497</td>\n",
       "      <td>-0.059957</td>\n",
       "      <td>0.022810</td>\n",
       "    </tr>\n",
       "  </tbody>\n",
       "</table>\n",
       "<p>5 rows × 29 columns</p>\n",
       "</div>"
      ],
      "text/plain": [
       "            locus_tag   a_2.5pc    a_25pc    a_75pc  a_97.5pc    a_mean  \\\n",
       "5515  ECDH10B_RS00010  0.029129  0.244940  0.332219  0.426666  0.276330   \n",
       "4705  ECDH10B_RS00020  0.169773  0.272327  0.336390  0.427064  0.303134   \n",
       "5475  ECDH10B_RS00060  0.092371  0.268534  0.338677  0.493763  0.297471   \n",
       "5474  ECDH10B_RS00065  0.091092  0.258078  0.334934  0.449760  0.294165   \n",
       "5469  ECDH10B_RS00070  0.083468  0.265716  0.334018  0.413204  0.291290   \n",
       "\n",
       "      a_median     a_sem   b_2.5pc    b_25pc    ...       g_mean  g_median  \\\n",
       "5515  0.295267  0.097412  0.918105  0.937876    ...     0.373606  0.386956   \n",
       "4705  0.305796  0.060675  0.923711  0.938501    ...     0.385294  0.391275   \n",
       "5475  0.307758  0.099552  0.916767  0.938826    ...     0.383268  0.389446   \n",
       "5474  0.302821  0.081867  0.907745  0.938434    ...     0.385307  0.391122   \n",
       "5469  0.301167  0.073938  0.918311  0.938084    ...     0.373458  0.389639   \n",
       "\n",
       "         g_sem   d_2.5pc    d_25pc    d_75pc  d_97.5pc    d_mean  d_median  \\\n",
       "5515  0.091973 -0.090580 -0.062259 -0.055452 -0.036866 -0.059451 -0.058879   \n",
       "4705  0.064762 -0.079569 -0.062273 -0.054959 -0.044358 -0.059307 -0.058405   \n",
       "5475  0.073516 -0.089941 -0.063986 -0.055564 -0.036741 -0.060844 -0.059464   \n",
       "5474  0.106802 -0.090234 -0.062454 -0.054761 -0.040138 -0.059514 -0.058488   \n",
       "5469  0.107962 -0.130703 -0.067450 -0.056503 -0.047106 -0.068497 -0.059957   \n",
       "\n",
       "         d_sem  \n",
       "5515  0.011430  \n",
       "4705  0.008574  \n",
       "5475  0.012340  \n",
       "5474  0.011435  \n",
       "5469  0.022810  \n",
       "\n",
       "[5 rows x 29 columns]"
      ]
     },
     "execution_count": 9,
     "metadata": {},
     "output_type": "execute_result"
    }
   ],
   "source": [
    "# Get summary data for parameter estimates\n",
    "# use 'fit' for the model fit directly, and 'df'for loaded pickled data\n",
    "estimates = tools.extract_variable_summaries(treatment_fit, 'df', locus_tags)\n",
    "estimates.head()"
   ]
  },
  {
   "cell_type": "code",
   "execution_count": 10,
   "metadata": {
    "collapsed": true
   },
   "outputs": [],
   "source": [
    "# Separate estimates for Sakai and DH10B\n",
    "sakai_estimates = tools.split_estimates(estimates, 'sakai')\n",
    "dh10b_estimates = tools.split_estimates(estimates, 'dh10b')"
   ]
  },
  {
   "cell_type": "markdown",
   "metadata": {},
   "source": [
    "## Inspecting the fit\n",
    "\n",
    "In the cells below, we visualise the fitted estimates for each of the parameters $\\alpha$, $\\beta$, $\\gamma$, and $\\delta$ as:\n",
    "\n",
    "* box plots of median estimates for each locus tag\n",
    "* relationship between control and treatment effects in Sakai\n",
    "* plots of 95% credibility interval range against median estimate for each locus tag"
   ]
  },
  {
   "cell_type": "markdown",
   "metadata": {},
   "source": [
    "### Median parameter estimates\n",
    "\n",
    "We first inspect the range of fitted estimates to get an overview of the relationships for the data as a whole, and then examine whether this relationship varies by *E. coli* isolate."
   ]
  },
  {
   "cell_type": "code",
   "execution_count": 11,
   "metadata": {
    "collapsed": false
   },
   "outputs": [
    {
     "data": {
      "image/png": "[encoded data removed]",
      "text/plain": [
       "<matplotlib.figure.Figure at 0x10d322a58>"
      ]
     },
     "metadata": {},
     "output_type": "display_data"
    }
   ],
   "source": [
    "# Visualise median values for parameter estimates\n",
    "tools.boxplot_medians(estimates)"
   ]
  },
  {
   "cell_type": "markdown",
   "metadata": {},
   "source": [
    "For this fit we can see that most median values of $\\alpha$ (control intercept), $\\gamma$ (treatment intercept), and $\\delta$ (treatment slope) are close to zero. Most values of $\\beta$ are close to (but slightly less than) unity. This implies that:\n",
    "\n",
    "* The linear relationship between input and output intensity due to the control effects (growth only) is, for most genes in the experiment, a slight reduction of output intensity with respect to input intensity value [median $\\alpha$ ≈ 0, median $\\beta$ ≈ 1]\n",
    "* For most genes in the experiment there is no treatment effect due to exposure to the plant [median $\\gamma$ ≈ 0, median $\\delta$ ≈ 0]\n",
    "\n",
    "There are, however, a considerable number of outlying median values for each parameter, which suggests that a number of genes have associated parameter values that are affected by either control (growth) or treatment (passage)."
   ]
  },
  {
   "cell_type": "markdown",
   "metadata": {},
   "source": [
    "#### DH10B\n",
    "\n",
    "Considering the Sakai estimates only:"
   ]
  },
  {
   "cell_type": "code",
   "execution_count": 12,
   "metadata": {
    "collapsed": false
   },
   "outputs": [
    {
     "data": {
      "image/png": "[encoded data removed]",
      "text/plain": [
       "<matplotlib.figure.Figure at 0x1072434e0>"
      ]
     },
     "metadata": {},
     "output_type": "display_data"
    }
   ],
   "source": [
    "# Visualise median values for Sakai parameter estimates\n",
    "tools.boxplot_medians(dh10b_estimates)"
   ]
  },
  {
   "cell_type": "markdown",
   "metadata": {},
   "source": [
    "#### Sakai\n",
    "\n",
    "Considering the Sakai estimates only:"
   ]
  },
  {
   "cell_type": "code",
   "execution_count": 13,
   "metadata": {
    "collapsed": false
   },
   "outputs": [
    {
     "data": {
      "image/png": "[encoded data removed]",
      "text/plain": [
       "<matplotlib.figure.Figure at 0x10da16a90>"
      ]
     },
     "metadata": {},
     "output_type": "display_data"
    }
   ],
   "source": [
    "# Visualise median values for Sakai parameter estimates\n",
    "tools.boxplot_medians(sakai_estimates)"
   ]
  },
  {
   "cell_type": "markdown",
   "metadata": {},
   "source": [
    "From these boxplots it is clear that the median parameter estimates for DH10B are extremely restricted in their range:\n",
    "\n",
    "* $0.2 < \\alpha < 0.5$\n",
    "* $0.936 < \\beta < 0.95$\n",
    "* $0.36 < \\gamma < 0.43$\n",
    "* $-0.061 < \\delta < 0.06$\n",
    "\n",
    "As before the control effect appears to be essentially neutral, in that the output intensity is almost a 1:1 linear relationship with the input intensity, but it is striking that the median estimates of $\\gamma$ and $\\delta$ are very close to zero, suggesting that passage (treatment) has almost no effect on this relationship, for any DH10B locus tag.\n",
    "\n",
    "This is exactly what would be expected for DH10B as the carrier isolate."
   ]
  },
  {
   "cell_type": "markdown",
   "metadata": {},
   "source": [
    "By contrast, the median parameter estimates for Sakai are extremely variable, though the bulk of estimates are close to the values seen for DH10B:\n",
    "\n",
    "* $-20 < \\alpha < 10$\n",
    "* $-1 < \\beta < 3.5$\n",
    "* $-30 < \\gamma < 30$\n",
    "* $-6 < \\delta < 8$\n",
    "\n",
    "This indicates the expected result, that strong variability of control and treatment effects are effectively confined to the Sakai BAC fragments.\n",
    "\n",
    "It is expected that some genes/operons may be relatively advantageous in either growth (control) or passage (treatment) conditions, or both. We can visualise the relationships between parameter estimates for control and treatment effects in scatterplots."
   ]
  },
  {
   "cell_type": "code",
   "execution_count": 14,
   "metadata": {
    "collapsed": true
   },
   "outputs": [],
   "source": [
    "def plot_treatment_vs_control(df):\n",
    "    \"\"\"Plot median treatment vs control parameters in a 2x2 matrix\"\"\"\n",
    "    fig, axes = plt.subplots(2, 2, figsize=(12, 8))\n",
    "    axes = axes.ravel()\n",
    "    fig.subplots_adjust(hspace=0.3)\n",
    "    \n",
    "    for idx, xvar, yvar, ax in zip(range(4),\n",
    "                                   ['a_median', 'a_median',\n",
    "                                    'b_median', 'b_median'],\n",
    "                                   ['g_median', 'd_median',\n",
    "                                    'g_median', 'd_median'],\n",
    "                                   axes):\n",
    "        ax.scatter(df[xvar], df[yvar], alpha=0.2)\n",
    "        ax.set_xlabel(xvar)\n",
    "        ax.set_ylabel(yvar)"
   ]
  },
  {
   "cell_type": "code",
   "execution_count": 15,
   "metadata": {
    "collapsed": false
   },
   "outputs": [
    {
     "data": {
      "image/png": "[encoded data removed]",
      "text/plain": [
       "<matplotlib.figure.Figure at 0x10e5fce10>"
      ]
     },
     "metadata": {},
     "output_type": "display_data"
    }
   ],
   "source": [
    "# Plot estimated parameters for treatment effects against control effects for Sakai\n",
    "plot_treatment_vs_control(sakai_estimates)"
   ]
  },
  {
   "cell_type": "markdown",
   "metadata": {},
   "source": [
    "The strong cross-like distributions indicate that most parameter estimates that vary from those of the bulk are orthogonal: deviation of the control experiment parameters is not associated with deviation of the treatment effect parameters.\n",
    "\n",
    "However, there is a group of estimates in the plots of `d_median` against `a_median` and `b_median` that suggest an additional effect is in play. Several locus tags with median estimates of $\\delta \\approx 1$ are also associated with large values of `b_median`. This might reflect a situation where the variability in the estimates of $\\beta$ and $\\delta$ is large, and the uncertainty is being partitioned across the two parameters, or it could indicate that there is genuinely a strong positive effect on the BAC-carrying organisms under both conditions.\n",
    "\n",
    "We can inspect this group of locus tags directly, to examine whether the 95% credibility intervals for those parameter estimates include 1 (for $\\beta$) or 0 (for $\\delta$). If that is the case for both estimates on a locus tag, then we might consider that the median estimates are the result of partitioning variability across both estimates."
   ]
  },
  {
   "cell_type": "code",
   "execution_count": 16,
   "metadata": {
    "collapsed": false
   },
   "outputs": [
    {
     "data": {
      "text/html": [
       "<div>\n",
       "<table border=\"1\" class=\"dataframe\">\n",
       "  <thead>\n",
       "    <tr style=\"text-align: right;\">\n",
       "      <th></th>\n",
       "      <th>locus_tag</th>\n",
       "      <th>b_median</th>\n",
       "      <th>b_2.5pc</th>\n",
       "      <th>b_97.5pc</th>\n",
       "      <th>d_median</th>\n",
       "      <th>d_2.5pc</th>\n",
       "      <th>d_97.5pc</th>\n",
       "    </tr>\n",
       "  </thead>\n",
       "  <tbody>\n",
       "    <tr>\n",
       "      <th>2992</th>\n",
       "      <td>ECs0218</td>\n",
       "      <td>2.177616</td>\n",
       "      <td>1.648019</td>\n",
       "      <td>2.656389</td>\n",
       "      <td>0.696648</td>\n",
       "      <td>0.212189</td>\n",
       "      <td>1.158068</td>\n",
       "    </tr>\n",
       "    <tr>\n",
       "      <th>4460</th>\n",
       "      <td>ECs0237</td>\n",
       "      <td>1.173647</td>\n",
       "      <td>0.795524</td>\n",
       "      <td>2.199794</td>\n",
       "      <td>0.547856</td>\n",
       "      <td>-0.064777</td>\n",
       "      <td>2.297449</td>\n",
       "    </tr>\n",
       "    <tr>\n",
       "      <th>1021</th>\n",
       "      <td>ECs1357</td>\n",
       "      <td>2.531182</td>\n",
       "      <td>1.957337</td>\n",
       "      <td>3.062126</td>\n",
       "      <td>0.732440</td>\n",
       "      <td>0.409551</td>\n",
       "      <td>1.048997</td>\n",
       "    </tr>\n",
       "    <tr>\n",
       "      <th>4768</th>\n",
       "      <td>ECs1556</td>\n",
       "      <td>1.330507</td>\n",
       "      <td>0.882774</td>\n",
       "      <td>2.302321</td>\n",
       "      <td>0.812953</td>\n",
       "      <td>0.216107</td>\n",
       "      <td>2.266111</td>\n",
       "    </tr>\n",
       "    <tr>\n",
       "      <th>163</th>\n",
       "      <td>ECs1557</td>\n",
       "      <td>3.166764</td>\n",
       "      <td>2.772861</td>\n",
       "      <td>3.590428</td>\n",
       "      <td>0.891258</td>\n",
       "      <td>0.679918</td>\n",
       "      <td>1.240506</td>\n",
       "    </tr>\n",
       "    <tr>\n",
       "      <th>915</th>\n",
       "      <td>ECs3222</td>\n",
       "      <td>2.768258</td>\n",
       "      <td>2.434587</td>\n",
       "      <td>3.095956</td>\n",
       "      <td>0.658634</td>\n",
       "      <td>0.426298</td>\n",
       "      <td>0.869889</td>\n",
       "    </tr>\n",
       "    <tr>\n",
       "      <th>886</th>\n",
       "      <td>ECs3232</td>\n",
       "      <td>1.035740</td>\n",
       "      <td>0.934710</td>\n",
       "      <td>1.115305</td>\n",
       "      <td>1.664662</td>\n",
       "      <td>1.193798</td>\n",
       "      <td>2.156372</td>\n",
       "    </tr>\n",
       "    <tr>\n",
       "      <th>875</th>\n",
       "      <td>ECs3233</td>\n",
       "      <td>1.318883</td>\n",
       "      <td>0.935725</td>\n",
       "      <td>2.206321</td>\n",
       "      <td>0.771997</td>\n",
       "      <td>-0.062680</td>\n",
       "      <td>2.113179</td>\n",
       "    </tr>\n",
       "    <tr>\n",
       "      <th>627</th>\n",
       "      <td>ECs3239</td>\n",
       "      <td>1.380284</td>\n",
       "      <td>0.939670</td>\n",
       "      <td>2.222052</td>\n",
       "      <td>0.804196</td>\n",
       "      <td>-0.065722</td>\n",
       "      <td>2.274725</td>\n",
       "    </tr>\n",
       "    <tr>\n",
       "      <th>615</th>\n",
       "      <td>ECs3242</td>\n",
       "      <td>1.469263</td>\n",
       "      <td>0.939575</td>\n",
       "      <td>2.401819</td>\n",
       "      <td>0.881952</td>\n",
       "      <td>0.117384</td>\n",
       "      <td>2.169571</td>\n",
       "    </tr>\n",
       "    <tr>\n",
       "      <th>3048</th>\n",
       "      <td>ECs3501</td>\n",
       "      <td>1.447906</td>\n",
       "      <td>0.924504</td>\n",
       "      <td>2.914824</td>\n",
       "      <td>2.046032</td>\n",
       "      <td>0.707896</td>\n",
       "      <td>4.400710</td>\n",
       "    </tr>\n",
       "    <tr>\n",
       "      <th>781</th>\n",
       "      <td>ECs4324</td>\n",
       "      <td>2.160039</td>\n",
       "      <td>1.930120</td>\n",
       "      <td>2.384707</td>\n",
       "      <td>0.822891</td>\n",
       "      <td>0.650785</td>\n",
       "      <td>0.977240</td>\n",
       "    </tr>\n",
       "    <tr>\n",
       "      <th>766</th>\n",
       "      <td>ECs4326</td>\n",
       "      <td>1.651421</td>\n",
       "      <td>1.389449</td>\n",
       "      <td>1.891097</td>\n",
       "      <td>0.852614</td>\n",
       "      <td>0.584505</td>\n",
       "      <td>1.052714</td>\n",
       "    </tr>\n",
       "    <tr>\n",
       "      <th>765</th>\n",
       "      <td>ECs4327</td>\n",
       "      <td>1.835877</td>\n",
       "      <td>1.603786</td>\n",
       "      <td>2.035244</td>\n",
       "      <td>0.746040</td>\n",
       "      <td>0.528564</td>\n",
       "      <td>0.911942</td>\n",
       "    </tr>\n",
       "    <tr>\n",
       "      <th>753</th>\n",
       "      <td>ECs4328</td>\n",
       "      <td>1.648654</td>\n",
       "      <td>1.422726</td>\n",
       "      <td>1.873141</td>\n",
       "      <td>0.731540</td>\n",
       "      <td>0.559297</td>\n",
       "      <td>0.907497</td>\n",
       "    </tr>\n",
       "    <tr>\n",
       "      <th>752</th>\n",
       "      <td>ECs4329</td>\n",
       "      <td>1.938667</td>\n",
       "      <td>1.750524</td>\n",
       "      <td>2.222640</td>\n",
       "      <td>0.792981</td>\n",
       "      <td>0.336626</td>\n",
       "      <td>0.950853</td>\n",
       "    </tr>\n",
       "    <tr>\n",
       "      <th>741</th>\n",
       "      <td>ECs4330</td>\n",
       "      <td>1.176305</td>\n",
       "      <td>0.930255</td>\n",
       "      <td>1.939854</td>\n",
       "      <td>0.869134</td>\n",
       "      <td>0.485404</td>\n",
       "      <td>1.783348</td>\n",
       "    </tr>\n",
       "    <tr>\n",
       "      <th>740</th>\n",
       "      <td>ECs4331</td>\n",
       "      <td>2.151968</td>\n",
       "      <td>1.902571</td>\n",
       "      <td>2.373058</td>\n",
       "      <td>0.843228</td>\n",
       "      <td>0.691631</td>\n",
       "      <td>0.997475</td>\n",
       "    </tr>\n",
       "    <tr>\n",
       "      <th>735</th>\n",
       "      <td>ECs4332</td>\n",
       "      <td>1.246996</td>\n",
       "      <td>0.923478</td>\n",
       "      <td>2.004348</td>\n",
       "      <td>0.922798</td>\n",
       "      <td>0.585426</td>\n",
       "      <td>1.847344</td>\n",
       "    </tr>\n",
       "    <tr>\n",
       "      <th>718</th>\n",
       "      <td>ECs4335</td>\n",
       "      <td>1.815268</td>\n",
       "      <td>1.630060</td>\n",
       "      <td>2.087835</td>\n",
       "      <td>0.819359</td>\n",
       "      <td>0.415880</td>\n",
       "      <td>0.959342</td>\n",
       "    </tr>\n",
       "    <tr>\n",
       "      <th>707</th>\n",
       "      <td>ECs4336</td>\n",
       "      <td>1.929367</td>\n",
       "      <td>1.708625</td>\n",
       "      <td>2.157228</td>\n",
       "      <td>0.840014</td>\n",
       "      <td>0.680323</td>\n",
       "      <td>1.020772</td>\n",
       "    </tr>\n",
       "    <tr>\n",
       "      <th>519</th>\n",
       "      <td>ECs4337</td>\n",
       "      <td>1.881820</td>\n",
       "      <td>1.692309</td>\n",
       "      <td>2.083180</td>\n",
       "      <td>0.753964</td>\n",
       "      <td>0.569835</td>\n",
       "      <td>0.929874</td>\n",
       "    </tr>\n",
       "    <tr>\n",
       "      <th>517</th>\n",
       "      <td>ECs4338</td>\n",
       "      <td>1.293639</td>\n",
       "      <td>0.928809</td>\n",
       "      <td>2.190774</td>\n",
       "      <td>1.187540</td>\n",
       "      <td>0.740851</td>\n",
       "      <td>2.267496</td>\n",
       "    </tr>\n",
       "    <tr>\n",
       "      <th>507</th>\n",
       "      <td>ECs4341</td>\n",
       "      <td>1.771411</td>\n",
       "      <td>1.590399</td>\n",
       "      <td>1.918269</td>\n",
       "      <td>0.777824</td>\n",
       "      <td>0.630693</td>\n",
       "      <td>0.913418</td>\n",
       "    </tr>\n",
       "    <tr>\n",
       "      <th>504</th>\n",
       "      <td>ECs4349</td>\n",
       "      <td>2.265615</td>\n",
       "      <td>2.027301</td>\n",
       "      <td>2.487698</td>\n",
       "      <td>0.842220</td>\n",
       "      <td>0.690894</td>\n",
       "      <td>1.008846</td>\n",
       "    </tr>\n",
       "    <tr>\n",
       "      <th>500</th>\n",
       "      <td>ECs4350</td>\n",
       "      <td>1.747683</td>\n",
       "      <td>1.522445</td>\n",
       "      <td>2.001351</td>\n",
       "      <td>0.683789</td>\n",
       "      <td>0.506689</td>\n",
       "      <td>0.856526</td>\n",
       "    </tr>\n",
       "    <tr>\n",
       "      <th>499</th>\n",
       "      <td>ECs4351</td>\n",
       "      <td>2.034279</td>\n",
       "      <td>1.793250</td>\n",
       "      <td>2.251273</td>\n",
       "      <td>0.832958</td>\n",
       "      <td>0.683318</td>\n",
       "      <td>0.988266</td>\n",
       "    </tr>\n",
       "    <tr>\n",
       "      <th>1887</th>\n",
       "      <td>ECs4353</td>\n",
       "      <td>2.071178</td>\n",
       "      <td>1.872186</td>\n",
       "      <td>2.243110</td>\n",
       "      <td>0.816885</td>\n",
       "      <td>0.686044</td>\n",
       "      <td>1.022503</td>\n",
       "    </tr>\n",
       "    <tr>\n",
       "      <th>1876</th>\n",
       "      <td>ECs4355</td>\n",
       "      <td>2.138756</td>\n",
       "      <td>1.903822</td>\n",
       "      <td>2.863209</td>\n",
       "      <td>0.798817</td>\n",
       "      <td>-0.066257</td>\n",
       "      <td>0.979083</td>\n",
       "    </tr>\n",
       "    <tr>\n",
       "      <th>1874</th>\n",
       "      <td>ECs4356</td>\n",
       "      <td>1.137150</td>\n",
       "      <td>0.914300</td>\n",
       "      <td>1.809386</td>\n",
       "      <td>0.829724</td>\n",
       "      <td>0.490947</td>\n",
       "      <td>1.558613</td>\n",
       "    </tr>\n",
       "  </tbody>\n",
       "</table>\n",
       "</div>"
      ],
      "text/plain": [
       "     locus_tag  b_median   b_2.5pc  b_97.5pc  d_median   d_2.5pc  d_97.5pc\n",
       "2992   ECs0218  2.177616  1.648019  2.656389  0.696648  0.212189  1.158068\n",
       "4460   ECs0237  1.173647  0.795524  2.199794  0.547856 -0.064777  2.297449\n",
       "1021   ECs1357  2.531182  1.957337  3.062126  0.732440  0.409551  1.048997\n",
       "4768   ECs1556  1.330507  0.882774  2.302321  0.812953  0.216107  2.266111\n",
       "163    ECs1557  3.166764  2.772861  3.590428  0.891258  0.679918  1.240506\n",
       "915    ECs3222  2.768258  2.434587  3.095956  0.658634  0.426298  0.869889\n",
       "886    ECs3232  1.035740  0.934710  1.115305  1.664662  1.193798  2.156372\n",
       "875    ECs3233  1.318883  0.935725  2.206321  0.771997 -0.062680  2.113179\n",
       "627    ECs3239  1.380284  0.939670  2.222052  0.804196 -0.065722  2.274725\n",
       "615    ECs3242  1.469263  0.939575  2.401819  0.881952  0.117384  2.169571\n",
       "3048   ECs3501  1.447906  0.924504  2.914824  2.046032  0.707896  4.400710\n",
       "781    ECs4324  2.160039  1.930120  2.384707  0.822891  0.650785  0.977240\n",
       "766    ECs4326  1.651421  1.389449  1.891097  0.852614  0.584505  1.052714\n",
       "765    ECs4327  1.835877  1.603786  2.035244  0.746040  0.528564  0.911942\n",
       "753    ECs4328  1.648654  1.422726  1.873141  0.731540  0.559297  0.907497\n",
       "752    ECs4329  1.938667  1.750524  2.222640  0.792981  0.336626  0.950853\n",
       "741    ECs4330  1.176305  0.930255  1.939854  0.869134  0.485404  1.783348\n",
       "740    ECs4331  2.151968  1.902571  2.373058  0.843228  0.691631  0.997475\n",
       "735    ECs4332  1.246996  0.923478  2.004348  0.922798  0.585426  1.847344\n",
       "718    ECs4335  1.815268  1.630060  2.087835  0.819359  0.415880  0.959342\n",
       "707    ECs4336  1.929367  1.708625  2.157228  0.840014  0.680323  1.020772\n",
       "519    ECs4337  1.881820  1.692309  2.083180  0.753964  0.569835  0.929874\n",
       "517    ECs4338  1.293639  0.928809  2.190774  1.187540  0.740851  2.267496\n",
       "507    ECs4341  1.771411  1.590399  1.918269  0.777824  0.630693  0.913418\n",
       "504    ECs4349  2.265615  2.027301  2.487698  0.842220  0.690894  1.008846\n",
       "500    ECs4350  1.747683  1.522445  2.001351  0.683789  0.506689  0.856526\n",
       "499    ECs4351  2.034279  1.793250  2.251273  0.832958  0.683318  0.988266\n",
       "1887   ECs4353  2.071178  1.872186  2.243110  0.816885  0.686044  1.022503\n",
       "1876   ECs4355  2.138756  1.903822  2.863209  0.798817 -0.066257  0.979083\n",
       "1874   ECs4356  1.137150  0.914300  1.809386  0.829724  0.490947  1.558613"
      ]
     },
     "execution_count": 16,
     "metadata": {},
     "output_type": "execute_result"
    }
   ],
   "source": [
    "# Extract the suspect locus tags, which have large estimates for d_median and b_median\n",
    "suspects = sakai_estimates.loc[(sakai_estimates['b_median'] > 1) &\n",
    "                               (sakai_estimates['d_median'] > 0.5)]\n",
    "suspects = suspects[['locus_tag',\n",
    "                     'b_median', 'b_2.5pc', 'b_97.5pc',\n",
    "                     'd_median', 'd_2.5pc', 'd_97.5pc']]\n",
    "suspects"
   ]
  },
  {
   "cell_type": "markdown",
   "metadata": {},
   "source": [
    "From the table that results, only a few locus tags have parameter estimate variability that suggests it could take the value of the bulk of the population:\n",
    "\n",
    "* ECs0237\n",
    "* ECs3233\n",
    "* ECs3239\n",
    "\n",
    "Otherwise the 95% CI for each of the parameter estimates suggests we should have some confidence in their values being unusually high for both control and treatment effects, so potentially being genes that confer a general, and not specifically plant-associated advantage on the carrier isolate."
   ]
  },
  {
   "cell_type": "markdown",
   "metadata": {},
   "source": [
    "## Identifying locus tags that confer an advantage under treatment and/or control\n",
    "\n",
    "We use a 50% credibility interval to determine whether the effect of a gene on passage is likely to be positive. Under this assumption, the middle 50% of the parameter estimates for $\\delta$ do not include zero. We label these `trt_pos`.\n",
    "\n",
    "Likewise, we use a 50% credibility interval to determine whether the effect of a gene on surviving growth (control) is an outlier. If the 50% CI for $\\beta$ does not include the 97.5 percentile for all estimates of $\\beta$ in this dataset, we consider that the effect of the gene on surviving growth conditions is positive. We label these `ctl_pos`.\n",
    "\n",
    "We create a third category: `combined`: genes with a positive effect on both growth and passage."
   ]
  },
  {
   "cell_type": "code",
   "execution_count": 17,
   "metadata": {
    "collapsed": false
   },
   "outputs": [],
   "source": [
    "# Label locus tags with positive effects\n",
    "sakai_estimates = tools.label_positive_effects(sakai_estimates)"
   ]
  },
  {
   "cell_type": "markdown",
   "metadata": {},
   "source": [
    "We can count the number of locus_tags in each of the groups:"
   ]
  },
  {
   "cell_type": "code",
   "execution_count": 18,
   "metadata": {
    "collapsed": false
   },
   "outputs": [
    {
     "name": "stdout",
     "output_type": "stream",
     "text": [
      "treatment positive: 72\n",
      "control positive: 52\n",
      "both: 24\n"
     ]
    }
   ],
   "source": [
    "# Count locus tags in each of the positive groups\n",
    "counts = [sum(sakai_estimates[col]) for col in ('trt_pos', 'ctl_pos', 'combined')]\n",
    "print(\"treatment positive: {0}\\ncontrol positive: {1}\\nboth: {2}\".format(*counts))"
   ]
  },
  {
   "cell_type": "markdown",
   "metadata": {},
   "source": [
    "which indicates, with these assumptions, that 72 genes have a positive effect on passage (treatment), 24 of these also have a positive effect in the growth (control) step, and a further 28 have a positive effect only on the growth step."
   ]
  },
  {
   "cell_type": "markdown",
   "metadata": {},
   "source": [
    "### Plotting distribution of effects\n",
    "\n",
    "We can show the estimated effects, and our confidence in those estimates, on a rough representation of the genome by plotting those values for each locus tag in genome order."
   ]
  },
  {
   "cell_type": "code",
   "execution_count": 19,
   "metadata": {
    "collapsed": false
   },
   "outputs": [
    {
     "data": {
      "image/png": "[encoded data removed]",
      "text/plain": [
       "<matplotlib.figure.Figure at 0x10ec8fc18>"
      ]
     },
     "metadata": {},
     "output_type": "display_data"
    }
   ],
   "source": [
    "# Plot genome-wide estimates of beta for Sakai\n",
    "beta_thresh = np.median(sakai_estimates['b_median'])  # mark values that don't include the median beta in 50% CI\n",
    "tools.plot_parameter(sakai_estimates, 'b', 'Estimates of beta for Sakai', beta_thresh)"
   ]
  },
  {
   "cell_type": "code",
   "execution_count": 20,
   "metadata": {
    "collapsed": false
   },
   "outputs": [
    {
     "data": {
      "image/png": "[encoded data removed]",
      "text/plain": [
       "<matplotlib.figure.Figure at 0x10ec8fda0>"
      ]
     },
     "metadata": {},
     "output_type": "display_data"
    }
   ],
   "source": [
    "# Plot genome-wide estimates of delta for Sakai\n",
    "tools.plot_parameter(sakai_estimates, 'd', 'Estimates of delta for Sakai')"
   ]
  }
 ],
 "metadata": {
  "kernelspec": {
   "display_name": "Python 3",
   "language": "python",
   "name": "python3"
  },
  "language_info": {
   "codemirror_mode": {
    "name": "ipython",
    "version": 3
   },
   "file_extension": ".py",
   "mimetype": "text/x-python",
   "name": "python",
   "nbconvert_exporter": "python",
   "pygments_lexer": "ipython3",
   "version": "3.5.2"
  }
 },
 "nbformat": 4,
 "nbformat_minor": 1
}
