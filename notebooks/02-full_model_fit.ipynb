{
 "cells": [
  {
   "cell_type": "markdown",
   "metadata": {},
   "source": [
    "# Supplementary Information: Holmes *et al.* 2017\n",
    "\n",
    "# 2. Full model fitting\n",
    "\n",
    "This notebook describes fitting of the Bayesian hierarchical model of the effect of control and treatment, by gene/locus tag, to the full array dataset."
   ]
  },
  {
   "cell_type": "markdown",
   "metadata": {},
   "source": [
    "## Python imports"
   ]
  },
  {
   "cell_type": "code",
   "execution_count": 1,
   "metadata": {
    "collapsed": false
   },
   "outputs": [
    {
     "name": "stdout",
     "output_type": "stream",
     "text": [
      "Populating the interactive namespace from numpy and matplotlib\n"
     ]
    },
    {
     "name": "stderr",
     "output_type": "stream",
     "text": [
      "/Users/lpritc/Development/GitHub/Supplementary_Info/SI_Holmes_etal_2016/venv-SI_Holmes_2016/lib/python3.5/site-packages/Cython/Distutils/old_build_ext.py:30: UserWarning: Cython.Distutils.old_build_ext does not properly handle dependencies and is deprecated.\n",
      "  \"Cython.Distutils.old_build_ext does not properly handle dependencies \"\n"
     ]
    }
   ],
   "source": [
    "%pylab inline\n",
    "\n",
    "import os\n",
    "\n",
    "import numpy as np\n",
    "import pandas as pd\n",
    "import pickle\n",
    "import pystan\n",
    "import scipy\n",
    "import seaborn as sns\n",
    "\n",
    "import tools\n",
    "\n",
    "import warnings\n",
    "warnings.filterwarnings('ignore')\n",
    "\n",
    "sns.set_context('notebook')"
   ]
  },
  {
   "cell_type": "markdown",
   "metadata": {},
   "source": [
    "## Building the model\n",
    "\n",
    "We construct our model to use groupwise (by gene ID) values for $\\gamma_{j[i]}$ and $\\delta_{j[i]}$, where these coefficients are each drawn from a pooled distribution covering all *gene IDs*. This assumes that the intercept and slope for the relationship between *input* and *output* has the same distribution across all *gene IDs*; this may not be true: we expect that some genes are more responsive than others, in terms of selection. We use a Cauchy distribution (which has fat tails with infinite variance) as a prior on parameter values.\n",
    "\n",
    "We therefore construct the following model of the experiment:\n",
    "\n",
    "$$y_i = \\alpha_{j[i]} + \\beta_{j[i]} x_i + \\gamma_{j[i]} t_i + \\delta_{j[i]} t_i x_i + \\epsilon_i$$\n",
    "$$\\alpha_{j[i]} \\sim Cauchy(\\mu_{\\alpha}, \\sigma_{\\alpha}^2)$$\n",
    "$$\\beta_{j[i]} \\sim Cauchy(\\mu_{\\beta}, \\sigma_{\\beta}^2)$$\n",
    "$$\\gamma_{j[i]} \\sim Cauchy(\\mu_{\\gamma}, \\sigma_{\\gamma}^2)$$\n",
    "$$\\delta_{j[i]} \\sim Cauchy(\\mu_{\\delta}, \\sigma_{\\delta}^2)$$\n",
    "$$\\sigma_{\\alpha} \\sim U(0, 100)$$\n",
    "$$\\sigma_{\\beta} \\sim U(0, 100)$$\n",
    "$$\\sigma_{\\gamma} \\sim U(0, 100)$$\n",
    "$$\\sigma_{\\delta} \\sim U(0, 100)$$\n",
    "\n",
    "\n",
    "* $y_i$: measured intensity output on the array for probe $i$ (specific to each replicate)\n",
    "* $x_i$: measured intensity input on the array for probe $i$ (specific to each replicate)\n",
    "* $t_i$: 0/1 indicating whether the probe $i$ was measured in a control (0) or treatment (1) experiment\n",
    "* $\\alpha_{j[i]}$: the linear intercept, this is a constant 'offset' for all *output* measurements relative to *input* measurements, but it differs for each *gene ID*; this is drawn from a Normal distribution $\\sim N(\\mu_{\\alpha}, \\sigma_{\\alpha}^2)$\n",
    "* $\\mu_{\\alpha}$: the mean offset for all *gene ID*s\n",
    "* $\\sigma_{\\alpha}$: the standard deviation of the offset for all *gene ID*s - sampled from a Uniform distribution $U(0, 100)$\n",
    "* $\\beta_{j[i]}$: the linear slope, this is the relative change in measured intensity between *input* and *output* intensities *at the probe ID level* - it differs for each *gene ID*; this is drawn from a Normal distribution $\\sim N(\\mu_{\\beta}, \\sigma_{\\beta}^2)$\n",
    "* $\\mu_{\\beta}$: the mean slope for all *gene ID*s\n",
    "* $\\sigma_{\\beta}$: the standard deviation of the slope for all *gene ID*s - sampled from a Uniform distribution $U(0, 100)$\n",
    "* $\\gamma_{j[i]}$: a groupwise estimate of the influence on *output* measured intensity of introducing passage (*treatment*) into the experiment (i.e. an intercept correction)\n",
    "* $\\mu_{\\gamma}$: the mean intercept due to *treatment* for each *gene ID*\n",
    "* $\\sigma_{\\gamma}$: the standard deviation of the offset for each *gene ID* due to the *treatment* - sampled from a Uniform distribution $U(0, 100)$\n",
    "* $\\delta_{j[i]}$: a groupwise estimate of the influence on *output* measured intensity of introducing passage (*treatment*) into the experiment, as a function of the *input* measured intensity (i.e. a slope correction)\n",
    "* $\\mu_{\\delta}$: the mean slope due to *treatment* for each *gene ID*\n",
    "* $\\sigma_{\\delta}$: the standard deviation of the slope for each *gene ID* due to *treatment* - sampled from a Uniform distribution $U(0, 100)$\n",
    "* $\\epsilon_i$: error in the model prediction for probe $i$"
   ]
  },
  {
   "cell_type": "markdown",
   "metadata": {},
   "source": [
    "### Stan model construction and fit\n",
    "\n",
    "We need to define `data`, `parameters` and our `model` for `Stan`.\n",
    "\n",
    "In the `data` block, we have:\n",
    "\n",
    "* `N`: `int`, the number of data points\n",
    "* `J`: `int`, the number of unique locus tags (`J` < `N`)\n",
    "* `tag`: `int[N]`, an index list of locus tags\n",
    "* `t`: `vector[N]`, 0/1 control/treatment values for each probe\n",
    "* `x`: `vector[N]`, the input log(intensity) values\n",
    "* `y`: `vector[N]`, the output log(intensity) values\n",
    "\n",
    "In the `parameter` block, we have:\n",
    "\n",
    "* `a`: `real vector[J]`, offset effect on log(intensity) of passing through the experiment for each locus tag/gene\n",
    "* `mu_a`: `real`, an unconstrained value to be fit that represents the mean offset for all locus tags\n",
    "* `b`: `real vector[J]`, effect on log(intensity) of passing through the experiment, for each locus tag/gene\n",
    "* `mu_b`: `real`, an unconstrained value to be fit that represents the mean slope for all locus tags\n",
    "* `g`: `real vector[J]`, estimate of the influence of treatment on the output measured intensity (offset) for each locus tag/gene\n",
    "* `mu_g`: `real`, an unconstrained value to be fit that represents the mean offset for all locus tags due to *treatment*\n",
    "* `d`: `real vector[J]`, estimate of the influence of treatment on the output measured intensity (slope) for each locus tag/gene\n",
    "* `mu_d`: `real`, an unconstrained value to be fit that represents the mean slope for all locus tags due to *treatment*\n",
    "* `sigma`: `real<lower=0>`, the error in the prediction\n",
    "* `sigma_a`: `real<lower=0,upper=100>`, standard deviation of the offset for all locus tags\n",
    "* `sigma_b`: `real<lower=0,upper=100>`, standard deviation of the slope for all locus tag\n",
    "* `sigma_g`: `real<lower=0,upper=100>`, standard deviation of the offset for all locus tags due to *treatment*\n",
    "* `sigma_d`: `real<lower=0,upper=100>`, standard deviation of the slope for all locus tags due to *treatment*\n",
    "\n",
    "\n",
    "We also define a `transformed parameter`:\n",
    "\n",
    "* `y_hat[i] <- b[tag[i]] * x[i] + a[tag[i]] + g[tag[i]] * t[i] + d[tag[i]] * t[i] * x[i]`: the linear relationship describing $\\hat{y}$, our estimate of experimental output intensity, which is subject to variance `sigma`.\n",
    "\n",
    "We define the model as:\n",
    "\n",
    "$$\\sigma_{\\alpha} \\sim U(0, 100)$$\n",
    "$$\\alpha_{j[i]} \\sim Cauchy(\\mu_{\\alpha}, \\sigma_{\\alpha}^2)$$\n",
    "$$\\sigma_{\\beta} \\sim U(0, 100)$$\n",
    "$$\\beta_{j[i]} \\sim Cauchy(\\mu_{\\beta}, \\sigma_{\\beta}^2)$$\n",
    "$$\\sigma_{\\gamma} \\sim U(0, 100)$$\n",
    "$$\\gamma_{j[i]} \\sim Cauchy(\\mu_{\\gamma}, \\sigma_{\\gamma}^2)$$\n",
    "$$\\sigma_{\\delta} \\sim U(0, 100)$$\n",
    "$$\\delta_{j[i]} \\sim Cauchy(\\mu_{\\delta}, \\sigma_{\\delta}^2)$$\n",
    "$$y \\sim N(\\hat{y}, \\sigma^2)$$\n"
   ]
  },
  {
   "cell_type": "code",
   "execution_count": 2,
   "metadata": {
    "collapsed": true
   },
   "outputs": [],
   "source": [
    "# load clean, normalised, indexed data\n",
    "data = pd.read_csv(\"datasets/normalised_array_data.tab\", sep=\"\\t\")  # full dataset\n",
    "\n",
    "# useful values\n",
    "locus_tags = data['locus_tag'].unique()\n",
    "ntags = len(locus_tags)"
   ]
  },
  {
   "cell_type": "code",
   "execution_count": 3,
   "metadata": {
    "collapsed": false
   },
   "outputs": [],
   "source": [
    "# Create output directory and filename\n",
    "outdir = \"model_fits\"\n",
    "os.makedirs(outdir, exist_ok=True)\n",
    "outfile = os.path.join(outdir, 'full_model_fit.pkl')"
   ]
  },
  {
   "cell_type": "code",
   "execution_count": null,
   "metadata": {
    "collapsed": true
   },
   "outputs": [],
   "source": [
    "# define unpooled stan model\n",
    "treatment_model = \"\"\"\n",
    "data {\n",
    "  int<lower=0> N;\n",
    "  int<lower=0> J;\n",
    "  int<lower=1, upper=J> tag[N];\n",
    "  vector[N] t;\n",
    "  vector[N] x;\n",
    "  vector[N] y;\n",
    "}\n",
    "parameters {\n",
    "  vector[J] a;\n",
    "  vector[J] b;\n",
    "  vector[J] g;\n",
    "  vector[J] d;\n",
    "  real mu_a;\n",
    "  real mu_b;\n",
    "  real mu_g;\n",
    "  real mu_d;\n",
    "  real<lower=0> sigma;\n",
    "  real<lower=0,upper=100> sigma_a;\n",
    "  real<lower=0,upper=100> sigma_b;\n",
    "  real<lower=0,upper=100> sigma_g;\n",
    "  real<lower=0,upper=100> sigma_d;\n",
    "}\n",
    "transformed parameters{\n",
    "  vector[N] y_hat;\n",
    "\n",
    "  for (i in 1:N)\n",
    "    y_hat[i] = a[tag[i]] + b[tag[i]] * x[i] + g[tag[i]] * t[i] + d[tag[i]] * t[i] * x[i];\n",
    "}\n",
    "model {\n",
    "  sigma_a ~ uniform(0, 100);\n",
    "  a ~ cauchy(mu_a, sigma_a);\n",
    "\n",
    "  sigma_b ~ uniform(0, 100);\n",
    "  b ~ cauchy(mu_b, sigma_b);\n",
    "\n",
    "  sigma_g ~ uniform(0, 100);\n",
    "  g ~ cauchy(mu_g, sigma_g);\n",
    "\n",
    "  sigma_d ~ uniform(0, 100);\n",
    "  d ~ cauchy(mu_d, sigma_d);\n",
    "\n",
    "  y ~ normal(y_hat, sigma);\n",
    "}\n",
    "\"\"\""
   ]
  },
  {
   "cell_type": "code",
   "execution_count": 4,
   "metadata": {
    "collapsed": false
   },
   "outputs": [],
   "source": [
    "# relate python variables to stan variables\n",
    "treatment_data_dict = {'N': len(data),\n",
    "                       'J': ntags,\n",
    "                       'tag': data['locus_tag_index'] + 1,\n",
    "                       't': data['treatment'],\n",
    "                       'x': data['log_input'],\n",
    "                       'y': data['log_output']}"
   ]
  },
  {
   "cell_type": "code",
   "execution_count": null,
   "metadata": {
    "collapsed": false
   },
   "outputs": [],
   "source": [
    "# run stan fit\n",
    "treatment_fit = pystan.stan(model_code=treatment_model,\n",
    "                            data=treatment_data_dict,\n",
    "                            iter=1000, chains=2,\n",
    "                            seed=tools.SEED)"
   ]
  },
  {
   "cell_type": "code",
   "execution_count": null,
   "metadata": {
    "collapsed": true
   },
   "outputs": [],
   "source": [
    "# Save model to file, for reuse# Save fit to file, for reuse\n",
    "unpermutedChains = treatment_fit.extract()\n",
    "unpermutedChains_df = pd.DataFrame([dict(unpermutedChains)])\n",
    "pickle.dump(unpermutedChains_df, open(outfile, 'wb'))"
   ]
  },
  {
   "cell_type": "code",
   "execution_count": 5,
   "metadata": {
    "collapsed": true
   },
   "outputs": [],
   "source": [
    "# Uncomment the line below to import a previously-fit model\n",
    "treatment_fit = pickle.load(open(outfile, 'rb'))"
   ]
  },
  {
   "cell_type": "code",
   "execution_count": 6,
   "metadata": {
    "collapsed": false
   },
   "outputs": [
    {
     "ename": "Exception",
     "evalue": "Data must be 1-dimensional",
     "output_type": "error",
     "traceback": [
      "\u001b[0;31m---------------------------------------------------------------------------\u001b[0m",
      "\u001b[0;31mException\u001b[0m                                 Traceback (most recent call last)",
      "\u001b[0;32m<ipython-input-6-a59e3c5bd4cf>\u001b[0m in \u001b[0;36m<module>\u001b[0;34m()\u001b[0m\n\u001b[1;32m      1\u001b[0m \u001b[0;31m# Get fits to alpha, beta, gamma by probe ID\u001b[0m\u001b[0;34m\u001b[0m\u001b[0;34m\u001b[0m\u001b[0m\n\u001b[0;32m----> 2\u001b[0;31m \u001b[0malpha_estimates\u001b[0m \u001b[0;34m=\u001b[0m \u001b[0mpd\u001b[0m\u001b[0;34m.\u001b[0m\u001b[0mSeries\u001b[0m\u001b[0;34m(\u001b[0m\u001b[0mtreatment_fit\u001b[0m\u001b[0;34m[\u001b[0m\u001b[0;34m'a'\u001b[0m\u001b[0;34m]\u001b[0m\u001b[0;34m.\u001b[0m\u001b[0mmean\u001b[0m\u001b[0;34m(\u001b[0m\u001b[0;36m0\u001b[0m\u001b[0;34m)\u001b[0m\u001b[0;34m,\u001b[0m \u001b[0mindex\u001b[0m\u001b[0;34m=\u001b[0m\u001b[0mlocus_tags\u001b[0m\u001b[0;34m)\u001b[0m\u001b[0;34m\u001b[0m\u001b[0m\n\u001b[0m\u001b[1;32m      3\u001b[0m \u001b[0malpha_se\u001b[0m \u001b[0;34m=\u001b[0m \u001b[0mpd\u001b[0m\u001b[0;34m.\u001b[0m\u001b[0mSeries\u001b[0m\u001b[0;34m(\u001b[0m\u001b[0mtreatment_fit\u001b[0m\u001b[0;34m[\u001b[0m\u001b[0;34m'a'\u001b[0m\u001b[0;34m]\u001b[0m\u001b[0;34m.\u001b[0m\u001b[0mstd\u001b[0m\u001b[0;34m(\u001b[0m\u001b[0;36m0\u001b[0m\u001b[0;34m)\u001b[0m\u001b[0;34m,\u001b[0m \u001b[0mindex\u001b[0m\u001b[0;34m=\u001b[0m\u001b[0mlocus_tags\u001b[0m\u001b[0;34m)\u001b[0m\u001b[0;34m\u001b[0m\u001b[0m\n\u001b[1;32m      4\u001b[0m \u001b[0mbeta_estimates\u001b[0m \u001b[0;34m=\u001b[0m \u001b[0mpd\u001b[0m\u001b[0;34m.\u001b[0m\u001b[0mSeries\u001b[0m\u001b[0;34m(\u001b[0m\u001b[0mtreatment_fit\u001b[0m\u001b[0;34m[\u001b[0m\u001b[0;34m'b'\u001b[0m\u001b[0;34m]\u001b[0m\u001b[0;34m.\u001b[0m\u001b[0mmean\u001b[0m\u001b[0;34m(\u001b[0m\u001b[0;36m0\u001b[0m\u001b[0;34m)\u001b[0m\u001b[0;34m,\u001b[0m \u001b[0mindex\u001b[0m\u001b[0;34m=\u001b[0m\u001b[0mlocus_tags\u001b[0m\u001b[0;34m)\u001b[0m\u001b[0;34m\u001b[0m\u001b[0m\n\u001b[1;32m      5\u001b[0m \u001b[0mbeta_se\u001b[0m \u001b[0;34m=\u001b[0m \u001b[0mpd\u001b[0m\u001b[0;34m.\u001b[0m\u001b[0mSeries\u001b[0m\u001b[0;34m(\u001b[0m\u001b[0mtreatment_fit\u001b[0m\u001b[0;34m[\u001b[0m\u001b[0;34m'b'\u001b[0m\u001b[0;34m]\u001b[0m\u001b[0;34m.\u001b[0m\u001b[0mstd\u001b[0m\u001b[0;34m(\u001b[0m\u001b[0;36m0\u001b[0m\u001b[0;34m)\u001b[0m\u001b[0;34m,\u001b[0m \u001b[0mindex\u001b[0m\u001b[0;34m=\u001b[0m\u001b[0mlocus_tags\u001b[0m\u001b[0;34m)\u001b[0m\u001b[0;34m\u001b[0m\u001b[0m\n",
      "\u001b[0;32m/Users/lpritc/Development/GitHub/Supplementary_Info/SI_Holmes_etal_2016/venv-SI_Holmes_2016/lib/python3.5/site-packages/pandas/core/series.py\u001b[0m in \u001b[0;36m__init__\u001b[0;34m(self, data, index, dtype, name, copy, fastpath)\u001b[0m\n\u001b[1;32m    239\u001b[0m             \u001b[0;32melse\u001b[0m\u001b[0;34m:\u001b[0m\u001b[0;34m\u001b[0m\u001b[0m\n\u001b[1;32m    240\u001b[0m                 data = _sanitize_array(data, index, dtype, copy,\n\u001b[0;32m--> 241\u001b[0;31m                                        raise_cast_failure=True)\n\u001b[0m\u001b[1;32m    242\u001b[0m \u001b[0;34m\u001b[0m\u001b[0m\n\u001b[1;32m    243\u001b[0m                 \u001b[0mdata\u001b[0m \u001b[0;34m=\u001b[0m \u001b[0mSingleBlockManager\u001b[0m\u001b[0;34m(\u001b[0m\u001b[0mdata\u001b[0m\u001b[0;34m,\u001b[0m \u001b[0mindex\u001b[0m\u001b[0;34m,\u001b[0m \u001b[0mfastpath\u001b[0m\u001b[0;34m=\u001b[0m\u001b[0;32mTrue\u001b[0m\u001b[0;34m)\u001b[0m\u001b[0;34m\u001b[0m\u001b[0m\n",
      "\u001b[0;32m/Users/lpritc/Development/GitHub/Supplementary_Info/SI_Holmes_etal_2016/venv-SI_Holmes_2016/lib/python3.5/site-packages/pandas/core/series.py\u001b[0m in \u001b[0;36m_sanitize_array\u001b[0;34m(data, index, dtype, copy, raise_cast_failure)\u001b[0m\n\u001b[1;32m   2946\u001b[0m     \u001b[0;32melif\u001b[0m \u001b[0msubarr\u001b[0m\u001b[0;34m.\u001b[0m\u001b[0mndim\u001b[0m \u001b[0;34m>\u001b[0m \u001b[0;36m1\u001b[0m\u001b[0;34m:\u001b[0m\u001b[0;34m\u001b[0m\u001b[0m\n\u001b[1;32m   2947\u001b[0m         \u001b[0;32mif\u001b[0m \u001b[0misinstance\u001b[0m\u001b[0;34m(\u001b[0m\u001b[0mdata\u001b[0m\u001b[0;34m,\u001b[0m \u001b[0mnp\u001b[0m\u001b[0;34m.\u001b[0m\u001b[0mndarray\u001b[0m\u001b[0;34m)\u001b[0m\u001b[0;34m:\u001b[0m\u001b[0;34m\u001b[0m\u001b[0m\n\u001b[0;32m-> 2948\u001b[0;31m             \u001b[0;32mraise\u001b[0m \u001b[0mException\u001b[0m\u001b[0;34m(\u001b[0m\u001b[0;34m'Data must be 1-dimensional'\u001b[0m\u001b[0;34m)\u001b[0m\u001b[0;34m\u001b[0m\u001b[0m\n\u001b[0m\u001b[1;32m   2949\u001b[0m         \u001b[0;32melse\u001b[0m\u001b[0;34m:\u001b[0m\u001b[0;34m\u001b[0m\u001b[0m\n\u001b[1;32m   2950\u001b[0m             \u001b[0msubarr\u001b[0m \u001b[0;34m=\u001b[0m \u001b[0m_asarray_tuplesafe\u001b[0m\u001b[0;34m(\u001b[0m\u001b[0mdata\u001b[0m\u001b[0;34m,\u001b[0m \u001b[0mdtype\u001b[0m\u001b[0;34m=\u001b[0m\u001b[0mdtype\u001b[0m\u001b[0;34m)\u001b[0m\u001b[0;34m\u001b[0m\u001b[0m\n",
      "\u001b[0;31mException\u001b[0m: Data must be 1-dimensional"
     ]
    }
   ],
   "source": [
    "# Get fits to alpha, beta, gamma by probe ID\n",
    "alpha_estimates = pd.Series(treatment_fit['a'].mean(0), index=locus_tags)\n",
    "alpha_se = pd.Series(treatment_fit['a'].std(0), index=locus_tags)\n",
    "beta_estimates = pd.Series(treatment_fit['b'].mean(0), index=locus_tags)\n",
    "beta_se = pd.Series(treatment_fit['b'].std(0), index=locus_tags)\n",
    "gamma_estimates = pd.Series(treatment_fit['g'].mean(0), index=locus_tags)\n",
    "gamma_se = pd.Series(treatment_fit['g'].std(0), index=locus_tags)\n",
    "delta_estimates = pd.Series(treatment_fit['d'].mean(0), index=locus_tags)\n",
    "delta_se = pd.Series(treatment_fit['d'].std(0), index=locus_tags)"
   ]
  },
  {
   "cell_type": "code",
   "execution_count": null,
   "metadata": {
    "collapsed": false
   },
   "outputs": [],
   "source": [
    "# Plot means distribution\n",
    "g = sns.boxplot(delta_estimates)\n",
    "g.set_title(\"Distribution of mean slope\")\n",
    "g.set_xlabel(\"mean(delta)\");"
   ]
  },
  {
   "cell_type": "code",
   "execution_count": null,
   "metadata": {
    "collapsed": false
   },
   "outputs": [],
   "source": [
    "# Plot means distribution\n",
    "g = sns.boxplot(delta_se)\n",
    "g.set_title(\"Distribution of slope standard error\")\n",
    "g.set_xscale(\"log\")\n",
    "g.set_xlabel(\"se(delta)\");"
   ]
  },
  {
   "cell_type": "code",
   "execution_count": null,
   "metadata": {
    "collapsed": false
   },
   "outputs": [],
   "source": [
    "# errors for slope outliers\n",
    "tools.plot_threshold_errors(delta_estimates, delta_se, 0)"
   ]
  },
  {
   "cell_type": "code",
   "execution_count": null,
   "metadata": {
    "collapsed": false
   },
   "outputs": [],
   "source": [
    "delta_means = pd.DataFrame(delta_estimates)\n",
    "delta_means.reset_index(inplace=True)\n",
    "delta_means.columns = ['locus_tag', 'delta_mean']\n",
    "delta_errors = pd.DataFrame(delta_se)\n",
    "delta_errors.reset_index(inplace=True)\n",
    "delta_errors.columns = ['locus_tag', 'delta_se']\n",
    "out = pd.merge(delta_means, delta_errors, 'inner', ['locus_tag']).sort('locus_tag')\n",
    "out.head()"
   ]
  },
  {
   "cell_type": "code",
   "execution_count": null,
   "metadata": {
    "collapsed": false
   },
   "outputs": [],
   "source": [
    "# plot predicted treatment effect\n",
    "plt.figure(figsize=(20,8))\n",
    "#plt.scatter(range(len(test_data)), test_data['beta'], alpha=1, color='k')\n",
    "plt.scatter(range(len(out)), out['delta_mean'])\n",
    "for idx, pmn, pse in zip(range(len(out)),\n",
    "                              out['delta_mean'],\n",
    "                              out['delta_se']):\n",
    "    if abs(pmn) - abs(pse) > 0:\n",
    "        color = 'b-'\n",
    "        if pmn > 0:\n",
    "            color = 'g-'\n",
    "    else:\n",
    "        color = 'r-'\n",
    "    plt.plot([idx, idx], [pmn - pse, pmn + pse], color, alpha=0.4)\n",
    "    #plt.plot([idx, out['beta']])\n",
    "plt.xlim(2000, len(out))\n",
    "#plt.xlim(4800, 5000)\n",
    "#plt.ylim(0.4, 1.2)"
   ]
  },
  {
   "cell_type": "code",
   "execution_count": null,
   "metadata": {
    "collapsed": true
   },
   "outputs": [],
   "source": [
    "# Identify significant delta locus tags\n",
    "out['significant'] = abs(out['delta_mean']) - abs(out['delta_se']) > 0\n",
    "significant = out.loc[out['significant']]"
   ]
  },
  {
   "cell_type": "code",
   "execution_count": null,
   "metadata": {
    "collapsed": false
   },
   "outputs": [],
   "source": [
    "# Which locus tags have a significantly positive value of delta?\n",
    "positives = significant.loc[significant['delta_mean'] > 0]\n",
    "len(positives)"
   ]
  },
  {
   "cell_type": "code",
   "execution_count": null,
   "metadata": {
    "collapsed": false
   },
   "outputs": [],
   "source": [
    "list(positives['locus_tag'])"
   ]
  },
  {
   "cell_type": "code",
   "execution_count": null,
   "metadata": {
    "collapsed": true
   },
   "outputs": [],
   "source": []
  }
 ],
 "metadata": {
  "kernelspec": {
   "display_name": "Python 3",
   "language": "python",
   "name": "python3"
  },
  "language_info": {
   "codemirror_mode": {
    "name": "ipython",
    "version": 3
   },
   "file_extension": ".py",
   "mimetype": "text/x-python",
   "name": "python",
   "nbconvert_exporter": "python",
   "pygments_lexer": "ipython3",
   "version": "3.5.2"
  }
 },
 "nbformat": 4,
 "nbformat_minor": 1
}
