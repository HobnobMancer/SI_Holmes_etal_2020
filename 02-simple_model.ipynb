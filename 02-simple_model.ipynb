{
 "cells": [
  {
   "cell_type": "markdown",
   "metadata": {},
   "source": [
    "# Supplementary Information: Holmes *et al.* 2017\n",
    "\n",
    "# 2. A simple model"
   ]
  },
  {
   "cell_type": "code",
   "execution_count": null,
   "metadata": {
    "collapsed": false
   },
   "outputs": [],
   "source": [
    "%pylab inline\n",
    "\n",
    "import numpy as np\n",
    "import pandas as pd\n",
    "import pystan\n",
    "import scipy\n",
    "import seaborn as sns\n",
    "\n",
    "import tools\n",
    "\n",
    "import warnings\n",
    "warnings.filterwarnings('ignore')\n",
    "\n",
    "sns.set_context('notebook')"
   ]
  },
  {
   "cell_type": "markdown",
   "metadata": {},
   "source": [
    "## Building the model\n",
    "\n",
    "The simplest model we can construct is to treat each probe in each replicate (under both conditions) as an independent observation, and that the output value is some linear function of the input value, mediated by the experiment. This is a completely pooled model, and encodes the relationship that the measured *output* intensity is a linear function only of the measured *input* intensity.\n",
    "\n",
    "We construct the following model of the experiment:\n",
    "\n",
    "$$y_i = \\alpha + \\beta x_i + \\epsilon_i$$\n",
    "\n",
    "where we consider a *probe* $i$ to be a single spot on an array, so each probe is represented once in the data.\n",
    "\n",
    "* $y_i$: measured intensity output on the array for probe $i$ (specific to each replicate)\n",
    "* $x_i$: measured intensity input on the array for probe $i$ (specific to each replicate)\n",
    "* $\\alpha$: the linear intercept, this is a constant 'offset' for all *output* measurements relative to *input* measurements\n",
    "* $\\beta$: the linear slope, this is the relative change in measured intensity between *input* and *output* intensities\n",
    "* $\\epsilon_i$: error in the model prediction for probe $i$"
   ]
  },
  {
   "cell_type": "markdown",
   "metadata": {},
   "source": [
    "### Stan model construction and fit\n",
    "\n",
    "We need to define `data`, `parameters` and our `model` for `Stan`.\n",
    "\n",
    "In the `data` block, we have:\n",
    "\n",
    "* `N`: `int`, the number of probes (total data points, \n",
    "* `x`: `vector[N]`, the input log(intensity) values\n",
    "* `y`: `vector[N]`, the output log(intensity) values\n",
    "\n",
    "In the `parameter` block, we have:\n",
    "\n",
    "* `a`: `real`, representative input log(intensity)\n",
    "* `b`: `real`, effect on log(intensity) of passing through the experiment\n",
    "* `sigma`: `real<lower=0>`, the error in the prediction\n",
    "\n",
    "We define the model as $y \\sim N(\\alpha + \\beta x, \\sigma^2)$."
   ]
  },
  {
   "cell_type": "code",
   "execution_count": null,
   "metadata": {
    "collapsed": true
   },
   "outputs": [],
   "source": [
    "# define simple stan model\n",
    "simple_model = \"\"\"\n",
    "data {\n",
    "  int<lower=0> N;\n",
    "  vector[N] x;\n",
    "  vector[N] y;\n",
    "}\n",
    "parameters {\n",
    "  real a;\n",
    "  real b;\n",
    "  real<lower=0> sigma;\n",
    "}\n",
    "model {\n",
    "  y ~ normal(a + b * x, sigma);\n",
    "}\n",
    "\"\"\""
   ]
  },
  {
   "cell_type": "markdown",
   "metadata": {},
   "source": [
    "We map Python variables to the `stan` model, but to do this we need to load our cleaned, normalised data:"
   ]
  },
  {
   "cell_type": "code",
   "execution_count": null,
   "metadata": {
    "collapsed": false
   },
   "outputs": [],
   "source": [
    "# load clean, normalised data\n",
    "# data = pd.read_csv(\"output/normalised_array_data.tab\", sep=\"\\t\")  # full dataset\n",
    "data = pd.read_csv(\"output/reduced_normalised_indexed_array_data.tab\", sep=\"\\t\")  # reduced dataset for test"
   ]
  },
  {
   "cell_type": "code",
   "execution_count": null,
   "metadata": {
    "collapsed": false
   },
   "outputs": [],
   "source": [
    "# relate python variables to stan variables\n",
    "simple_data_dict = {'N': len(data),\n",
    "                    'x': data['input'],\n",
    "                    'y': data['output']}"
   ]
  },
  {
   "cell_type": "code",
   "execution_count": null,
   "metadata": {
    "collapsed": false
   },
   "outputs": [],
   "source": [
    "# run stan fit\n",
    "simple_fit = pystan.stan(model_code=simple_model,\n",
    "                         data=simple_data_dict,\n",
    "                         iter=1000, chains=2)"
   ]
  },
  {
   "cell_type": "markdown",
   "metadata": {},
   "source": [
    "## Inspecting the fit\n",
    "\n",
    "We can inspect the fitted parameter estimates straightforwardly:"
   ]
  },
  {
   "cell_type": "code",
   "execution_count": null,
   "metadata": {
    "collapsed": false
   },
   "outputs": [],
   "source": [
    "# Plot fitted parameters\n",
    "tools.plot_fit_params(simple_fit, ['a', 'b'])"
   ]
  },
  {
   "cell_type": "markdown",
   "metadata": {},
   "source": [
    "This simple model fit gives us (for the full dataset) mean estimates of $\\alpha \\approx 99$ and $\\beta \\approx 0.8$, and the credibility intervals are quite tight around those values - they are almost certainly non-zero:"
   ]
  },
  {
   "cell_type": "code",
   "execution_count": null,
   "metadata": {
    "collapsed": false
   },
   "outputs": [],
   "source": [
    "# mean estimates\n",
    "a_mean = simple_fit['a'].mean()\n",
    "b_mean = simple_fit['b'].mean()\n",
    "print('alpha: {0:.3f}'.format(a_mean),\n",
    "      'beta: {0:.3f}'.format(b_mean))"
   ]
  },
  {
   "cell_type": "markdown",
   "metadata": {},
   "source": [
    "Taking this model at face value, the slope $\\beta < 1$ implies that we should expect overall that the *output* intensity for any probe to be lower than its *input* intensity. This is a slightly disappointing result in that we hope to identify genes with higher *output* intensity, as a goal of the experiment, but more positively we might consider that there could be an overwhelming background of genes about which we could say it is deleterious for them to be carried through the experiment, and those that stand out for being enriched in *output* intensity may be easier to identify."
   ]
  },
  {
   "cell_type": "code",
   "execution_count": null,
   "metadata": {
    "collapsed": false
   },
   "outputs": [],
   "source": [
    "# 50% intervals\n",
    "print(tools.print_intervals(simple_fit, 'a', 50))\n",
    "print(tools.print_intervals(simple_fit, 'b', 50))"
   ]
  },
  {
   "cell_type": "markdown",
   "metadata": {},
   "source": [
    "But does the model fit the data very well?"
   ]
  },
  {
   "cell_type": "code",
   "execution_count": null,
   "metadata": {
    "collapsed": false
   },
   "outputs": [],
   "source": [
    "# Plot the fitted model on the data\n",
    "plt.scatter(data['input'], data['output'], alpha=0.2)\n",
    "xvals = np.linspace(-1, 120000)\n",
    "plt.plot(xvals, a_mean + b_mean * xvals, 'r--');"
   ]
  },
  {
   "cell_type": "markdown",
   "metadata": {},
   "source": [
    "There is certainly a linear relationship betweeen input and output, and the model fit tracks that reasonably well. But there's quite a bit of variation around that fit, that may reflect effects that we could capture with a more complex model. \n",
    "\n",
    "Specifically, this model tells us nothing useful about a key experimental question: does including a passage (*treatment*) step modify the *output* intensity for a given *input* intensity, relative to not including that step. With a more complex model, we may be able to infer this relationship, and so identify those genes and pathways that are more strongly influenced by the passage component of the experiment."
   ]
  }
 ],
 "metadata": {
  "kernelspec": {
   "display_name": "Python 3",
   "language": "python",
   "name": "python3"
  },
  "language_info": {
   "codemirror_mode": {
    "name": "ipython",
    "version": 3
   },
   "file_extension": ".py",
   "mimetype": "text/x-python",
   "name": "python",
   "nbconvert_exporter": "python",
   "pygments_lexer": "ipython3",
   "version": "3.5.2"
  }
 },
 "nbformat": 4,
 "nbformat_minor": 1
}
