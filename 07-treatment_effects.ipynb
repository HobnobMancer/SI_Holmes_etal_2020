{
 "cells": [
  {
   "cell_type": "markdown",
   "metadata": {},
   "source": [
    "# Supplementary Information: Holmes *et al.* 2017\n",
    "\n",
    "# 7. Treatment effects"
   ]
  },
  {
   "cell_type": "code",
   "execution_count": null,
   "metadata": {
    "collapsed": false
   },
   "outputs": [],
   "source": [
    "%pylab inline\n",
    "\n",
    "import numpy as np\n",
    "import pandas as pd\n",
    "import pystan\n",
    "import scipy\n",
    "import seaborn as sns\n",
    "\n",
    "import tools\n",
    "\n",
    "import warnings\n",
    "warnings.filterwarnings('ignore')\n",
    "\n",
    "sns.set_context('notebook')"
   ]
  },
  {
   "cell_type": "markdown",
   "metadata": {},
   "source": [
    "## Building the model\n",
    "\n",
    "The key thing we wish to estimate is the effect on the Sakai genes of passaging bacteria over the plant. We now introduce a term that represents this effect, for the first time.\n",
    "\n",
    "To do this, we extend the model with a treatment effect offset by introducing the coefficient $\\delta$, to represent a global influence on slope, due to the passage step being included in the experiment. We again use the covariate $t_i$ as a 0/1 value that indicates whether the probe $i$ was measured as a *control* (0) or *treatment* (1) experiment. The value $\\delta t_i x_i$ is therefore a global slope correction describing the relationship between *input* and *output* (i.e how much an *input* is modified to give the *output*) that is ascribable to the treatment.\n",
    "\n",
    "We therefore construct the following model of the experiment:\n",
    "\n",
    "$$y_i = \\alpha_{j[i]} + \\beta_{j[i]} x_i + \\gamma t_i + \\delta t_i x_i + \\epsilon_i$$\n",
    "$$\\alpha_{j[i]} \\sim N(\\mu_{\\alpha}, \\sigma_{\\alpha}^2)$$\n",
    "$$\\beta_{j[i]} \\sim N(\\mu_{\\beta}, \\sigma_{\\beta}^2)$$\n",
    "$$\\sigma_{\\alpha} \\sim U(0, 100)$$\n",
    "$$\\sigma_{\\beta} \\sim U(0, 100)$$\n",
    "\n",
    "* $y_i$: measured intensity output on the array for probe $i$ (specific to each replicate)\n",
    "* $x_i$: measured intensity input on the array for probe $i$ (specific to each replicate)\n",
    "* $t_i$: 0/1 indicating whether the probe $i$ was measured in a control (0) or treatment (1) experiment\n",
    "* $\\alpha_{j[i]}$: the linear intercept, this is a constant 'offset' for all *output* measurements relative to *input* measurements, but it differs for each *probe ID*; this is drawn from a Normal distribution $\\sim N(\\mu_{\\alpha}, \\sigma_{\\alpha}^2)$\n",
    "* $\\mu_{\\alpha}$: the mean offset for all *probe ID*s\n",
    "* $\\sigma_{\\alpha}$: the standard deviation of the offset for all *probe ID*s - sampled from a Uniform distribution $U(0, 100)$\n",
    "* $\\beta_{j[i]}$: the linear slope, this is the relative change in measured intensity between *input* and *output* intensities *at the probe ID level* - it differs for each *probe ID*; this is drawn from a Normal distribution $\\sim N(\\mu_{\\beta}, \\sigma_{\\beta}^2)$\n",
    "* $\\mu_{\\beta}$: the mean slope for all *probe ID*s\n",
    "* $\\sigma_{\\beta}$: the standard deviation of the slope for all *probe ID*s - sampled from a Uniform distribution $U(0, 100)$\n",
    "* $\\gamma$: a global estimate of the influence on *output* measured intensity of introducing passage (*treatment*) into the experiment (i.e. an intercept correction)\n",
    "* $\\gamma$: a global estimate of the influence on *output* measured intensity of introducing passage (*treatment*) into the experiment, as a function of the *input* measured intensity (i.e. a slope correction)\n",
    "* $\\epsilon_i$: error in the model prediction for probe $i$"
   ]
  },
  {
   "cell_type": "markdown",
   "metadata": {},
   "source": [
    "### Stan model construction and fit\n",
    "\n",
    "We need to define `data`, `parameters` and our `model` for `Stan`.\n",
    "\n",
    "In the `data` block, we have:\n",
    "\n",
    "* `N`: `int`, the number of data points)\n",
    "* `J`: `int`, the number of unique probe IDs (`J` < `N`)\n",
    "* `probe`: `int[N]`, an index list of probe identities - one index representing six probe measurements (i.e. three control, three treatment) - there are `J` probes\n",
    "* `t`: `vector[N]`, 0/1 control/treatment values for each probe\n",
    "* `x`: `vector[N]`, the input log(intensity) values\n",
    "* `y`: `vector[N]`, the output log(intensity) values\n",
    "\n",
    "In the `parameter` block, we have:\n",
    "\n",
    "* `a`: `real vector[J]`, representative input log(intensity)\n",
    "* `mu_a`: `real`, an unconstrained value to be fit that represents the mean offset for each probe ID\n",
    "* `b`: `real vector[J]`, effect on log(intensity) of passing through the experiment, specific to a probe ID\n",
    "* `mu_b`: `real`, an unconstrained value to be fit that represents the mean slope for each probe ID\n",
    "* `g`: `real`, estimate of the influence of treatment on the output measured intensity (offset)\n",
    "* `d`: `real`, estimate of the influence of treatment on the output measured intensity (slope)\n",
    "* `sigma`: `real<lower=0>`, the error in the prediction\n",
    "* `sigma_a`: `real<lower=0,upper=100>`, standard deviation of the offset per probe ID\n",
    "* `sigma_b`: `real<lower=0,upper=100>`, standard deviation of the slope per probe ID\n",
    "\n",
    "We also define a `transformed parameter`:\n",
    "\n",
    "* `y_hat[i] <- b[probe[i]] * x[i] + a[probe[i]] + g * t[i] + d * t[i] * x[i]`: the linear relationship describing $\\hat{y}$, our estimate of experimental output intensity, which is subject to variance `sigma`.\n",
    "\n",
    "We define the model as:\n",
    "\n",
    "$$\\sigma_{\\alpha} \\sim U(0, 100)$$\n",
    "$$\\alpha_{j[i]} \\sim N(\\mu_{\\alpha}, \\sigma_{\\alpha}^2)$$\n",
    "$$\\sigma_{\\beta} \\sim U(0, 100)$$\n",
    "$$\\beta_{j[i]} \\sim N(\\mu_{\\beta}, \\sigma_{\\beta}^2)$$\n",
    "$$y \\sim N(\\hat{y}, \\sigma^2)$$\n"
   ]
  },
  {
   "cell_type": "code",
   "execution_count": null,
   "metadata": {
    "collapsed": true
   },
   "outputs": [],
   "source": [
    "# load clean, normalised, indexed data\n",
    "# data = pd.read_csv(\"output/normalised_array_data.tab\", sep=\"\\t\")  # full dataset\n",
    "data = pd.read_csv(\"output/reduced_normalised_indexed_array_data.tab\", sep=\"\\t\")  # reduced dataset for test\n",
    "\n",
    "# useful values\n",
    "probe_ids = data['probe'].unique()\n",
    "nprobes = len(probe_ids)"
   ]
  },
  {
   "cell_type": "code",
   "execution_count": null,
   "metadata": {
    "collapsed": true
   },
   "outputs": [],
   "source": [
    "# define unpooled stan model\n",
    "treatment_model = \"\"\"\n",
    "data {\n",
    "  int<lower=0> N;\n",
    "  int<lower=0> J;\n",
    "  int<lower=1, upper=J> probe[N];\n",
    "  vector[N] t;\n",
    "  vector[N] x;\n",
    "  vector[N] y;\n",
    "}\n",
    "parameters {\n",
    "  vector[J] a;\n",
    "  vector[J] b;\n",
    "  real g;\n",
    "  real d;\n",
    "  real mu_a;\n",
    "  real mu_b;\n",
    "  real<lower=0> sigma;\n",
    "  real<lower=0,upper=100> sigma_a;\n",
    "  real<lower=0,upper=100> sigma_b;\n",
    "}\n",
    "transformed parameters{\n",
    "  vector[N] y_hat;\n",
    "\n",
    "  for (i in 1:N)\n",
    "    y_hat[i] = a[probe[i]] + b[probe[i]] * x[i] + g * t[i] + d * t[i] * x[i];\n",
    "}\n",
    "model {\n",
    "  sigma_a ~ uniform(0, 100);\n",
    "  a ~ normal(mu_a, sigma_a);\n",
    "\n",
    "  sigma_b ~ uniform(0, 100);\n",
    "  b ~ normal(mu_b, sigma_b);\n",
    "\n",
    "y ~ normal(y_hat, sigma);\n",
    "}\n",
    "\"\"\""
   ]
  },
  {
   "cell_type": "code",
   "execution_count": null,
   "metadata": {
    "collapsed": true
   },
   "outputs": [],
   "source": [
    "# relate python variables to stan variables\n",
    "treatment_data_dict = {'N': len(data),\n",
    "                       'J': nprobes,\n",
    "                       'probe': data['probe_index'] + 1,\n",
    "                       't': data['treatment'],\n",
    "                       'x': data['log_input'],\n",
    "                       'y': data['log_output']}"
   ]
  },
  {
   "cell_type": "code",
   "execution_count": null,
   "metadata": {
    "collapsed": false
   },
   "outputs": [],
   "source": [
    "# run stan fit\n",
    "treatment_fit = pystan.stan(model_code=treatment_model,\n",
    "                            data=treatment_data_dict,\n",
    "                            iter=1000, chains=2)"
   ]
  },
  {
   "cell_type": "code",
   "execution_count": null,
   "metadata": {
    "collapsed": true
   },
   "outputs": [],
   "source": [
    "# Save model to file, for reuse\n",
    "tools.save_model(treatment_fit, 'output/notebook07_model.pkl')"
   ]
  },
  {
   "cell_type": "markdown",
   "metadata": {},
   "source": [
    "## Inspecting the fit\n",
    "\n",
    "We're interested again in how the 'base' fit of the relationship between *input* and *output* is modified when we take a treatment effect offset into account, and also in the size of this effect on the estimate of slope."
   ]
  },
  {
   "cell_type": "code",
   "execution_count": null,
   "metadata": {
    "collapsed": true
   },
   "outputs": [],
   "source": [
    "# Get fits to alpha, beta, gamma, delta by probe ID\n",
    "alpha_estimates = pd.Series(treatment_fit['a'].mean(0), index=probe_ids)\n",
    "alpha_se = pd.Series(treatment_fit['a'].std(0), index=probe_ids)\n",
    "beta_estimates = pd.Series(treatment_fit['b'].mean(0), index=probe_ids)\n",
    "beta_se = pd.Series(treatment_fit['b'].std(0), index=probe_ids)\n",
    "gamma_mean = treatment_fit['g'].mean(0)\n",
    "gamma_se = treatment_fit['g'].std(0)\n",
    "delta_mean = treatment_fit['d'].mean(0)\n",
    "delta_se = treatment_fit['d'].std(0)"
   ]
  },
  {
   "cell_type": "code",
   "execution_count": null,
   "metadata": {
    "collapsed": false
   },
   "outputs": [],
   "source": [
    "# Inspect the estimates\n",
    "alpha_estimates.head()"
   ]
  },
  {
   "cell_type": "code",
   "execution_count": null,
   "metadata": {
    "collapsed": false
   },
   "outputs": [],
   "source": [
    "# Inspect the estimates\n",
    "beta_estimates.head()"
   ]
  },
  {
   "cell_type": "code",
   "execution_count": null,
   "metadata": {
    "collapsed": false
   },
   "outputs": [],
   "source": [
    "# Inspect the estimates\n",
    "print(gamma_mean, tools.print_intervals(treatment_fit, 'g', 50))"
   ]
  },
  {
   "cell_type": "code",
   "execution_count": null,
   "metadata": {
    "collapsed": false
   },
   "outputs": [],
   "source": [
    "# Inspect the estimates\n",
    "print(delta_mean, tools.print_intervals(treatment_fit, 'd', 50))"
   ]
  },
  {
   "cell_type": "markdown",
   "metadata": {
    "collapsed": true
   },
   "source": [
    "### Intercept $\\alpha_{j[i]}$"
   ]
  },
  {
   "cell_type": "code",
   "execution_count": null,
   "metadata": {
    "collapsed": false
   },
   "outputs": [],
   "source": [
    "# Plot means distribution\n",
    "g = sns.boxplot(alpha_estimates)\n",
    "g.set_title(\"Distribution of mean intercept\")\n",
    "g.set_xlabel(\"mean(alpha)\");"
   ]
  },
  {
   "cell_type": "code",
   "execution_count": null,
   "metadata": {
    "collapsed": false
   },
   "outputs": [],
   "source": [
    "# Plot means distribution\n",
    "g = sns.boxplot(alpha_se)\n",
    "g.set_title(\"Distribution of intercept standard error\")\n",
    "g.set_xlabel(\"se(alpha)\");"
   ]
  },
  {
   "cell_type": "markdown",
   "metadata": {},
   "source": [
    "### Slopes $\\beta_{j[i]}$"
   ]
  },
  {
   "cell_type": "code",
   "execution_count": null,
   "metadata": {
    "collapsed": false
   },
   "outputs": [],
   "source": [
    "# Plot means distribution\n",
    "g = sns.boxplot(beta_estimates)\n",
    "g.set_title(\"Distribution of mean intercept\")\n",
    "g.set_xlabel(\"mean(beta)\");"
   ]
  },
  {
   "cell_type": "code",
   "execution_count": null,
   "metadata": {
    "collapsed": false
   },
   "outputs": [],
   "source": [
    "# Plot error distribution\n",
    "g = sns.boxplot(beta_se)\n",
    "g.set_title(\"Distribution of standard error\")\n",
    "g.set_xlabel(\"se(beta)\");"
   ]
  },
  {
   "cell_type": "code",
   "execution_count": null,
   "metadata": {
    "collapsed": false
   },
   "outputs": [],
   "source": [
    "# errors for intercept outliers\n",
    "tools.plot_threshold_errors(beta_estimates, beta_se, 0.975)"
   ]
  },
  {
   "cell_type": "code",
   "execution_count": null,
   "metadata": {
    "collapsed": false
   },
   "outputs": [],
   "source": [
    "# errors for intercept outliers\n",
    "tools.plot_threshold_errors(beta_estimates, beta_se, 0.9735, upper=False)"
   ]
  },
  {
   "cell_type": "markdown",
   "metadata": {},
   "source": [
    "### Treatment offset $\\gamma$"
   ]
  },
  {
   "cell_type": "code",
   "execution_count": null,
   "metadata": {
    "collapsed": false
   },
   "outputs": [],
   "source": [
    "# Plot fitted parameters\n",
    "tools.plot_fit_params(treatment_fit, ['g'])"
   ]
  },
  {
   "cell_type": "markdown",
   "metadata": {},
   "source": [
    "### Treatment slope $\\delta$"
   ]
  },
  {
   "cell_type": "code",
   "execution_count": null,
   "metadata": {
    "collapsed": false
   },
   "outputs": [],
   "source": [
    "# Plot fitted parameters\n",
    "tools.plot_fit_params(treatment_fit, ['d'])"
   ]
  },
  {
   "cell_type": "code",
   "execution_count": null,
   "metadata": {
    "collapsed": true
   },
   "outputs": [],
   "source": []
  }
 ],
 "metadata": {
  "kernelspec": {
   "display_name": "Python 3",
   "language": "python",
   "name": "python3"
  },
  "language_info": {
   "codemirror_mode": {
    "name": "ipython",
    "version": 3
   },
   "file_extension": ".py",
   "mimetype": "text/x-python",
   "name": "python",
   "nbconvert_exporter": "python",
   "pygments_lexer": "ipython3",
   "version": "3.5.2"
  }
 },
 "nbformat": 4,
 "nbformat_minor": 1
}
